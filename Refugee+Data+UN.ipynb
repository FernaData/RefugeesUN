{
 "cells": [
  {
   "cell_type": "markdown",
   "metadata": {},
   "source": [
    "# UNHCR Refugee Data (from Kaggle)"
   ]
  },
  {
   "cell_type": "markdown",
   "metadata": {},
   "source": [
    "We look at a UNHCR Refugees Dataset from Kaggle. The relevance of our investigation is explained by the worldwide refugee crisis worldwide. A priori we have the desire to answer the following questions:\n",
    "`1.` Which countries are most refugees from over the time?\n",
    "`2.` Which countries receive the greatest amount of refugees over the time?\n",
    "`3.` How is situation in Germany/Europe?\n",
    "`4.` How many refugees does Europe realy receive compared to the rest of the world?\n",
    "\n",
    "Later we will answer more specific questions and explore connections between the different datasets. For example we will try to predict the outcome of an asylum request, by using different explanatory variablse."
   ]
  },
  {
   "cell_type": "markdown",
   "metadata": {},
   "source": [
    "## Gather Data"
   ]
  },
  {
   "cell_type": "markdown",
   "metadata": {},
   "source": [
    "First we import our basic packages:"
   ]
  },
  {
   "cell_type": "code",
   "execution_count": 123,
   "metadata": {
    "collapsed": true
   },
   "outputs": [],
   "source": [
    "import pandas as pd\n",
    "import numpy as np\n",
    "import zipfile\n",
    "import matplotlib.pyplot as plt\n",
    "%matplotlib inline\n",
    "import math"
   ]
  },
  {
   "cell_type": "markdown",
   "metadata": {},
   "source": [
    "Then we load the datafiles into our Jupyter Notebook."
   ]
  },
  {
   "cell_type": "code",
   "execution_count": 124,
   "metadata": {
    "scrolled": true
   },
   "outputs": [
    {
     "name": "stderr",
     "output_type": "stream",
     "text": [
      "C:\\Users\\User\\Anaconda3\\envs\\py3\\lib\\site-packages\\IPython\\core\\interactiveshell.py:2698: DtypeWarning: Columns (4,5,6,7,8,9,10,11,12,13) have mixed types. Specify dtype option on import or set low_memory=False.\n",
      "  interactivity=interactivity, compiler=compiler, result=result)\n"
     ]
    }
   ],
   "source": [
    "zf = zipfile.ZipFile('C:/Users/User/Desktop/refugee-data.zip')\n",
    "seekers = pd.read_csv(zf.open('asylum_seekers.csv'))"
   ]
  },
  {
   "cell_type": "code",
   "execution_count": 125,
   "metadata": {
    "collapsed": true
   },
   "outputs": [],
   "source": [
    "demographics = pd.read_csv(zf.open('demographics.csv'))"
   ]
  },
  {
   "cell_type": "code",
   "execution_count": 126,
   "metadata": {},
   "outputs": [
    {
     "name": "stderr",
     "output_type": "stream",
     "text": [
      "C:\\Users\\User\\Anaconda3\\envs\\py3\\lib\\site-packages\\IPython\\core\\interactiveshell.py:2698: DtypeWarning: Columns (3,4,5,8,9,10) have mixed types. Specify dtype option on import or set low_memory=False.\n",
      "  interactivity=interactivity, compiler=compiler, result=result)\n"
     ]
    }
   ],
   "source": [
    "concern = pd.read_csv(zf.open('persons_of_concern.csv'))"
   ]
  },
  {
   "cell_type": "code",
   "execution_count": 127,
   "metadata": {
    "collapsed": true
   },
   "outputs": [],
   "source": [
    "resettlement = pd.read_csv(zf.open('resettlement.csv'))"
   ]
  },
  {
   "cell_type": "code",
   "execution_count": 128,
   "metadata": {},
   "outputs": [
    {
     "name": "stderr",
     "output_type": "stream",
     "text": [
      "C:\\Users\\User\\Anaconda3\\envs\\py3\\lib\\site-packages\\IPython\\core\\interactiveshell.py:2698: DtypeWarning: Columns (4) have mixed types. Specify dtype option on import or set low_memory=False.\n",
      "  interactivity=interactivity, compiler=compiler, result=result)\n"
     ]
    }
   ],
   "source": [
    "time_series = pd.read_csv(zf.open('time_series.csv'))"
   ]
  },
  {
   "cell_type": "markdown",
   "metadata": {},
   "source": [
    "# Assess Data and define issues for later cleansing"
   ]
  },
  {
   "cell_type": "markdown",
   "metadata": {},
   "source": [
    "We asses the data and start with the first table, which is the seekers file."
   ]
  },
  {
   "cell_type": "markdown",
   "metadata": {},
   "source": [
    "## Seekers File:"
   ]
  },
  {
   "cell_type": "markdown",
   "metadata": {},
   "source": [
    "First we look at the table, by sampling 10 entries:"
   ]
  },
  {
   "cell_type": "code",
   "execution_count": 129,
   "metadata": {},
   "outputs": [
    {
     "data": {
      "text/html": [
       "<div>\n",
       "<style>\n",
       "    .dataframe thead tr:only-child th {\n",
       "        text-align: right;\n",
       "    }\n",
       "\n",
       "    .dataframe thead th {\n",
       "        text-align: left;\n",
       "    }\n",
       "\n",
       "    .dataframe tbody tr th {\n",
       "        vertical-align: top;\n",
       "    }\n",
       "</style>\n",
       "<table border=\"1\" class=\"dataframe\">\n",
       "  <thead>\n",
       "    <tr style=\"text-align: right;\">\n",
       "      <th></th>\n",
       "      <th>Year</th>\n",
       "      <th>Country / territory of asylum/residence</th>\n",
       "      <th>Origin</th>\n",
       "      <th>RSD procedure type / level</th>\n",
       "      <th>Tota pending start-year</th>\n",
       "      <th>of which UNHCR-assisted(start-year)</th>\n",
       "      <th>Applied during year</th>\n",
       "      <th>decisions_recognized</th>\n",
       "      <th>decisions_other</th>\n",
       "      <th>Rejected</th>\n",
       "      <th>Otherwise closed</th>\n",
       "      <th>Total decisions</th>\n",
       "      <th>Total pending end-year</th>\n",
       "      <th>of which UNHCR-assisted(end-year)</th>\n",
       "    </tr>\n",
       "  </thead>\n",
       "  <tbody>\n",
       "    <tr>\n",
       "      <th>101067</th>\n",
       "      <td>2014</td>\n",
       "      <td>Kenya</td>\n",
       "      <td>Ethiopia</td>\n",
       "      <td>U / FI</td>\n",
       "      <td>5284</td>\n",
       "      <td>5284</td>\n",
       "      <td>2699</td>\n",
       "      <td>372</td>\n",
       "      <td>0</td>\n",
       "      <td>316</td>\n",
       "      <td>7295</td>\n",
       "      <td>7983</td>\n",
       "      <td>0</td>\n",
       "      <td>0</td>\n",
       "    </tr>\n",
       "    <tr>\n",
       "      <th>123129</th>\n",
       "      <td>2016</td>\n",
       "      <td>Germany</td>\n",
       "      <td>Guatemala</td>\n",
       "      <td>G / NA</td>\n",
       "      <td>*</td>\n",
       "      <td>NaN</td>\n",
       "      <td>*</td>\n",
       "      <td>NaN</td>\n",
       "      <td>NaN</td>\n",
       "      <td>NaN</td>\n",
       "      <td>NaN</td>\n",
       "      <td>NaN</td>\n",
       "      <td>6</td>\n",
       "      <td>0</td>\n",
       "    </tr>\n",
       "    <tr>\n",
       "      <th>107182</th>\n",
       "      <td>2014</td>\n",
       "      <td>Greece</td>\n",
       "      <td>Uganda</td>\n",
       "      <td>G / FI</td>\n",
       "      <td>1</td>\n",
       "      <td>0</td>\n",
       "      <td>10</td>\n",
       "      <td>2</td>\n",
       "      <td>0</td>\n",
       "      <td>2</td>\n",
       "      <td>4</td>\n",
       "      <td>8</td>\n",
       "      <td>7</td>\n",
       "      <td>0</td>\n",
       "    </tr>\n",
       "    <tr>\n",
       "      <th>97420</th>\n",
       "      <td>2013</td>\n",
       "      <td>Australia</td>\n",
       "      <td>Ukraine</td>\n",
       "      <td>G / AR</td>\n",
       "      <td>6</td>\n",
       "      <td>0</td>\n",
       "      <td>5</td>\n",
       "      <td>0</td>\n",
       "      <td>0</td>\n",
       "      <td>7</td>\n",
       "      <td>1</td>\n",
       "      <td>8</td>\n",
       "      <td>3</td>\n",
       "      <td>0</td>\n",
       "    </tr>\n",
       "    <tr>\n",
       "      <th>107705</th>\n",
       "      <td>2014</td>\n",
       "      <td>Poland</td>\n",
       "      <td>Stateless</td>\n",
       "      <td>G / FI</td>\n",
       "      <td>28</td>\n",
       "      <td>0</td>\n",
       "      <td>29</td>\n",
       "      <td>22</td>\n",
       "      <td>1</td>\n",
       "      <td>2</td>\n",
       "      <td>19</td>\n",
       "      <td>44</td>\n",
       "      <td>18</td>\n",
       "      <td>0</td>\n",
       "    </tr>\n",
       "    <tr>\n",
       "      <th>6980</th>\n",
       "      <td>2001</td>\n",
       "      <td>France</td>\n",
       "      <td>Georgia</td>\n",
       "      <td>G / FI</td>\n",
       "      <td>0</td>\n",
       "      <td>0</td>\n",
       "      <td>1067</td>\n",
       "      <td>36</td>\n",
       "      <td>0</td>\n",
       "      <td>525</td>\n",
       "      <td>0</td>\n",
       "      <td>561</td>\n",
       "      <td>0</td>\n",
       "      <td>0</td>\n",
       "    </tr>\n",
       "    <tr>\n",
       "      <th>63052</th>\n",
       "      <td>2009</td>\n",
       "      <td>China, Hong Kong SAR</td>\n",
       "      <td>Togo</td>\n",
       "      <td>U / AR</td>\n",
       "      <td>2</td>\n",
       "      <td>0</td>\n",
       "      <td>7</td>\n",
       "      <td>0</td>\n",
       "      <td>0</td>\n",
       "      <td>4</td>\n",
       "      <td>1</td>\n",
       "      <td>5</td>\n",
       "      <td>4</td>\n",
       "      <td>4</td>\n",
       "    </tr>\n",
       "    <tr>\n",
       "      <th>50056</th>\n",
       "      <td>2008</td>\n",
       "      <td>Spain</td>\n",
       "      <td>Argentina</td>\n",
       "      <td>G / FI</td>\n",
       "      <td>0</td>\n",
       "      <td>0</td>\n",
       "      <td>8</td>\n",
       "      <td>0</td>\n",
       "      <td>0</td>\n",
       "      <td>1</td>\n",
       "      <td>2</td>\n",
       "      <td>3</td>\n",
       "      <td>0</td>\n",
       "      <td>0</td>\n",
       "    </tr>\n",
       "    <tr>\n",
       "      <th>26582</th>\n",
       "      <td>2004</td>\n",
       "      <td>United States of America</td>\n",
       "      <td>Latvia</td>\n",
       "      <td>G / IN</td>\n",
       "      <td>70</td>\n",
       "      <td>0</td>\n",
       "      <td>23</td>\n",
       "      <td>7</td>\n",
       "      <td>0</td>\n",
       "      <td>21</td>\n",
       "      <td>7</td>\n",
       "      <td>35</td>\n",
       "      <td>58</td>\n",
       "      <td>0</td>\n",
       "    </tr>\n",
       "    <tr>\n",
       "      <th>117833</th>\n",
       "      <td>2015</td>\n",
       "      <td>United States of America</td>\n",
       "      <td>Turkmenistan</td>\n",
       "      <td>G / EO</td>\n",
       "      <td>26</td>\n",
       "      <td>NaN</td>\n",
       "      <td>4</td>\n",
       "      <td>5</td>\n",
       "      <td>NaN</td>\n",
       "      <td>NaN</td>\n",
       "      <td>NaN</td>\n",
       "      <td>5</td>\n",
       "      <td>35</td>\n",
       "      <td>NaN</td>\n",
       "    </tr>\n",
       "  </tbody>\n",
       "</table>\n",
       "</div>"
      ],
      "text/plain": [
       "        Year Country / territory of asylum/residence        Origin  \\\n",
       "101067  2014                                   Kenya      Ethiopia   \n",
       "123129  2016                                 Germany     Guatemala   \n",
       "107182  2014                                  Greece        Uganda   \n",
       "97420   2013                               Australia       Ukraine   \n",
       "107705  2014                                  Poland     Stateless   \n",
       "6980    2001                                  France       Georgia   \n",
       "63052   2009                    China, Hong Kong SAR          Togo   \n",
       "50056   2008                                   Spain     Argentina   \n",
       "26582   2004                United States of America        Latvia   \n",
       "117833  2015                United States of America  Turkmenistan   \n",
       "\n",
       "       RSD procedure type / level Tota pending start-year  \\\n",
       "101067                     U / FI                    5284   \n",
       "123129                     G / NA                       *   \n",
       "107182                     G / FI                       1   \n",
       "97420                      G / AR                       6   \n",
       "107705                     G / FI                      28   \n",
       "6980                       G / FI                       0   \n",
       "63052                      U / AR                       2   \n",
       "50056                      G / FI                       0   \n",
       "26582                      G / IN                      70   \n",
       "117833                     G / EO                      26   \n",
       "\n",
       "       of which UNHCR-assisted(start-year) Applied during year  \\\n",
       "101067                                5284                2699   \n",
       "123129                                 NaN                   *   \n",
       "107182                                   0                  10   \n",
       "97420                                    0                   5   \n",
       "107705                                   0                  29   \n",
       "6980                                     0                1067   \n",
       "63052                                    0                   7   \n",
       "50056                                    0                   8   \n",
       "26582                                    0                  23   \n",
       "117833                                 NaN                   4   \n",
       "\n",
       "       decisions_recognized decisions_other Rejected Otherwise closed  \\\n",
       "101067                  372               0      316             7295   \n",
       "123129                  NaN             NaN      NaN              NaN   \n",
       "107182                    2               0        2                4   \n",
       "97420                     0               0        7                1   \n",
       "107705                   22               1        2               19   \n",
       "6980                     36               0      525                0   \n",
       "63052                     0               0        4                1   \n",
       "50056                     0               0        1                2   \n",
       "26582                     7               0       21                7   \n",
       "117833                    5             NaN      NaN              NaN   \n",
       "\n",
       "       Total decisions Total pending end-year  \\\n",
       "101067            7983                      0   \n",
       "123129             NaN                      6   \n",
       "107182               8                      7   \n",
       "97420                8                      3   \n",
       "107705              44                     18   \n",
       "6980               561                      0   \n",
       "63052                5                      4   \n",
       "50056                3                      0   \n",
       "26582               35                     58   \n",
       "117833               5                     35   \n",
       "\n",
       "       of which UNHCR-assisted(end-year)  \n",
       "101067                                 0  \n",
       "123129                                 0  \n",
       "107182                                 0  \n",
       "97420                                  0  \n",
       "107705                                 0  \n",
       "6980                                   0  \n",
       "63052                                  4  \n",
       "50056                                  0  \n",
       "26582                                  0  \n",
       "117833                               NaN  "
      ]
     },
     "execution_count": 129,
     "metadata": {},
     "output_type": "execute_result"
    }
   ],
   "source": [
    "seekers.sample(10)"
   ]
  },
  {
   "cell_type": "markdown",
   "metadata": {},
   "source": [
    "Then we create a copy, to leave the original data unchanged and continue to work on this copy."
   ]
  },
  {
   "cell_type": "code",
   "execution_count": 130,
   "metadata": {
    "collapsed": true
   },
   "outputs": [],
   "source": [
    "seekers_clean = seekers.copy()"
   ]
  },
  {
   "cell_type": "markdown",
   "metadata": {},
   "source": [
    "We look at the column names:"
   ]
  },
  {
   "cell_type": "code",
   "execution_count": 131,
   "metadata": {},
   "outputs": [
    {
     "data": {
      "text/plain": [
       "Index(['Year', 'Country / territory of asylum/residence', 'Origin',\n",
       "       'RSD procedure type / level', 'Tota pending start-year',\n",
       "       'of which UNHCR-assisted(start-year)', 'Applied during year',\n",
       "       'decisions_recognized', 'decisions_other', 'Rejected',\n",
       "       'Otherwise closed', 'Total decisions', 'Total pending end-year',\n",
       "       'of which UNHCR-assisted(end-year)'],\n",
       "      dtype='object')"
      ]
     },
     "execution_count": 131,
     "metadata": {},
     "output_type": "execute_result"
    }
   ],
   "source": [
    "seekers.keys()"
   ]
  },
  {
   "cell_type": "markdown",
   "metadata": {},
   "source": [
    "For convenience we rename the column names:"
   ]
  },
  {
   "cell_type": "code",
   "execution_count": 132,
   "metadata": {
    "collapsed": true
   },
   "outputs": [],
   "source": [
    "new_column_names = seekers.keys().str.lower().str.replace(' ' , '_').str.replace('-' , '')"
   ]
  },
  {
   "cell_type": "code",
   "execution_count": 133,
   "metadata": {
    "collapsed": true
   },
   "outputs": [],
   "source": [
    "new_column_names = list(new_column_names)"
   ]
  },
  {
   "cell_type": "code",
   "execution_count": 134,
   "metadata": {
    "collapsed": true
   },
   "outputs": [],
   "source": [
    "new_column_names[1] = 'country_giving_asylum'\n",
    "new_column_names[2] = 'country_of_origin'\n",
    "new_column_names[3] = 'rsd_type'\n",
    "new_column_names[4] = 'total_pending_startyear'\n",
    "new_column_names[5] = 'unhcrassisted_startyear'\n",
    "new_column_names[-1] = 'unhcrassisted_endyear'"
   ]
  },
  {
   "cell_type": "code",
   "execution_count": 135,
   "metadata": {
    "collapsed": true
   },
   "outputs": [],
   "source": [
    "dict_keys = dict(zip(seekers.keys(),new_column_names))\n",
    "\n",
    "seekers_clean.rename(str , columns = dict_keys , inplace = True)"
   ]
  },
  {
   "cell_type": "markdown",
   "metadata": {},
   "source": [
    "We look at the info table of the file, in order to check file types and to see which columns have missing values:"
   ]
  },
  {
   "cell_type": "code",
   "execution_count": 136,
   "metadata": {},
   "outputs": [
    {
     "name": "stdout",
     "output_type": "stream",
     "text": [
      "<class 'pandas.core.frame.DataFrame'>\n",
      "Index: 129720 entries, 0 to 129719\n",
      "Data columns (total 14 columns):\n",
      "year                       129720 non-null int64\n",
      "country_giving_asylum      129720 non-null object\n",
      "country_of_origin          129720 non-null object\n",
      "rsd_type                   129719 non-null object\n",
      "total_pending_startyear    124578 non-null object\n",
      "unhcrassisted_startyear    118962 non-null object\n",
      "applied_during_year        126222 non-null object\n",
      "decisions_recognized       119886 non-null object\n",
      "decisions_other            114974 non-null object\n",
      "rejected                   121615 non-null object\n",
      "otherwise_closed           120850 non-null object\n",
      "total_decisions            97082 non-null object\n",
      "total_pending_endyear      125832 non-null object\n",
      "unhcrassisted_endyear      121883 non-null object\n",
      "dtypes: int64(1), object(13)\n",
      "memory usage: 14.8+ MB\n"
     ]
    }
   ],
   "source": [
    "seekers_clean.info()"
   ]
  },
  {
   "cell_type": "markdown",
   "metadata": {},
   "source": [
    "How many entries per year are included in the data?"
   ]
  },
  {
   "cell_type": "code",
   "execution_count": 137,
   "metadata": {},
   "outputs": [
    {
     "data": {
      "text/plain": [
       "2015    11225\n",
       "2016    10461\n",
       "2014     9908\n",
       "2013     9259\n",
       "2012     8644\n",
       "2011     8299\n",
       "2010     7905\n",
       "2009     7159\n",
       "2008     7042\n",
       "2007     6924\n",
       "2005     6721\n",
       "2006     6656\n",
       "2004     6601\n",
       "2003     6359\n",
       "2002     5862\n",
       "2001     5542\n",
       "2000     5153\n",
       "Name: year, dtype: int64"
      ]
     },
     "execution_count": 137,
     "metadata": {},
     "output_type": "execute_result"
    }
   ],
   "source": [
    "seekers_clean.year.value_counts()"
   ]
  },
  {
   "cell_type": "markdown",
   "metadata": {},
   "source": [
    "How many countries give asylum according to the data?"
   ]
  },
  {
   "cell_type": "code",
   "execution_count": 138,
   "metadata": {},
   "outputs": [
    {
     "data": {
      "text/plain": [
       "190"
      ]
     },
     "execution_count": 138,
     "metadata": {},
     "output_type": "execute_result"
    }
   ],
   "source": [
    "seekers_clean.country_giving_asylum.nunique()"
   ]
  },
  {
   "cell_type": "markdown",
   "metadata": {},
   "source": [
    "How many originate countries are there, according to the data?"
   ]
  },
  {
   "cell_type": "code",
   "execution_count": 139,
   "metadata": {},
   "outputs": [
    {
     "data": {
      "text/plain": [
       "222"
      ]
     },
     "execution_count": 139,
     "metadata": {},
     "output_type": "execute_result"
    }
   ],
   "source": [
    "seekers_clean.country_of_origin.nunique()"
   ]
  },
  {
   "cell_type": "markdown",
   "metadata": {},
   "source": [
    "### Define issues for later cleansing\n",
    "\n",
    "###### - Quality Issues \n",
    "\n",
    "- Problem: Some entries are * for example row 126057\n",
    "- Problem: row 4898 Viet Nam ({\\color{red} edit: this is not a problem})\n",
    "- `total_decisions` is NaN\n",
    "\n",
    "######  - Tidiness Issues\n",
    "\n",
    "- Problem: Column names are inconvenient\n",
    "- Problem: RSD types?\n",
    "\n",
    "#### - Further Issues and explanations:\n",
    "\n",
    "For each country, asylum applications examined through the refugee status determination (RSD) process may be classified by:\n",
    "- `1.` Type of procedure: U=UNHCR; G=Government; J=Joint procedure and\n",
    "- `2.` Level in the procedure: FI=First instance; FA=First instance and appeal; AR=Appeal"
   ]
  },
  {
   "cell_type": "markdown",
   "metadata": {},
   "source": [
    "## Demographics File:"
   ]
  },
  {
   "cell_type": "markdown",
   "metadata": {},
   "source": [
    "We take a look at the demographics table:"
   ]
  },
  {
   "cell_type": "code",
   "execution_count": 140,
   "metadata": {},
   "outputs": [
    {
     "data": {
      "text/html": [
       "<div>\n",
       "<style>\n",
       "    .dataframe thead tr:only-child th {\n",
       "        text-align: right;\n",
       "    }\n",
       "\n",
       "    .dataframe thead th {\n",
       "        text-align: left;\n",
       "    }\n",
       "\n",
       "    .dataframe tbody tr th {\n",
       "        vertical-align: top;\n",
       "    }\n",
       "</style>\n",
       "<table border=\"1\" class=\"dataframe\">\n",
       "  <thead>\n",
       "    <tr style=\"text-align: right;\">\n",
       "      <th></th>\n",
       "      <th>Year</th>\n",
       "      <th>Country / territory of asylum/residence</th>\n",
       "      <th>Location Name</th>\n",
       "      <th>Female 0-4</th>\n",
       "      <th>Female 5-11</th>\n",
       "      <th>Female 5-17</th>\n",
       "      <th>Female 12-17</th>\n",
       "      <th>Female 18-59</th>\n",
       "      <th>Female 60+</th>\n",
       "      <th>F: Unknown</th>\n",
       "      <th>F: Total</th>\n",
       "      <th>Male 0-4</th>\n",
       "      <th>Male 5-11</th>\n",
       "      <th>Male 5-17</th>\n",
       "      <th>Male 12-17</th>\n",
       "      <th>Male 18-59</th>\n",
       "      <th>Male 60+</th>\n",
       "      <th>M: Unknown</th>\n",
       "      <th>M: Total</th>\n",
       "    </tr>\n",
       "  </thead>\n",
       "  <tbody>\n",
       "    <tr>\n",
       "      <th>11730</th>\n",
       "      <td>2013</td>\n",
       "      <td>Mali</td>\n",
       "      <td>Tombouctou : Region</td>\n",
       "      <td>321</td>\n",
       "      <td>568</td>\n",
       "      <td>NaN</td>\n",
       "      <td>245</td>\n",
       "      <td>1080</td>\n",
       "      <td>126</td>\n",
       "      <td>0.0</td>\n",
       "      <td>2340</td>\n",
       "      <td>359</td>\n",
       "      <td>546</td>\n",
       "      <td>NaN</td>\n",
       "      <td>268</td>\n",
       "      <td>985</td>\n",
       "      <td>119</td>\n",
       "      <td>0.0</td>\n",
       "      <td>2277</td>\n",
       "    </tr>\n",
       "    <tr>\n",
       "      <th>11499</th>\n",
       "      <td>2013</td>\n",
       "      <td>Guinea-Bissau</td>\n",
       "      <td>Papia</td>\n",
       "      <td>21</td>\n",
       "      <td>28</td>\n",
       "      <td>NaN</td>\n",
       "      <td>13</td>\n",
       "      <td>54</td>\n",
       "      <td>8</td>\n",
       "      <td>0.0</td>\n",
       "      <td>124</td>\n",
       "      <td>18</td>\n",
       "      <td>36</td>\n",
       "      <td>NaN</td>\n",
       "      <td>20</td>\n",
       "      <td>36</td>\n",
       "      <td>3</td>\n",
       "      <td>0.0</td>\n",
       "      <td>113</td>\n",
       "    </tr>\n",
       "  </tbody>\n",
       "</table>\n",
       "</div>"
      ],
      "text/plain": [
       "       Year Country / territory of asylum/residence        Location Name  \\\n",
       "11730  2013                                    Mali  Tombouctou : Region   \n",
       "11499  2013                           Guinea-Bissau                Papia   \n",
       "\n",
       "      Female 0-4 Female 5-11  Female 5-17 Female 12-17 Female 18-59  \\\n",
       "11730        321         568          NaN          245         1080   \n",
       "11499         21          28          NaN           13           54   \n",
       "\n",
       "      Female 60+  F: Unknown F: Total Male 0-4 Male 5-11  Male 5-17  \\\n",
       "11730        126         0.0     2340      359       546        NaN   \n",
       "11499          8         0.0      124       18        36        NaN   \n",
       "\n",
       "      Male 12-17 Male 18-59 Male 60+  M: Unknown M: Total  \n",
       "11730        268        985      119         0.0     2277  \n",
       "11499         20         36        3         0.0      113  "
      ]
     },
     "execution_count": 140,
     "metadata": {},
     "output_type": "execute_result"
    }
   ],
   "source": [
    "demographics.sample(2)"
   ]
  },
  {
   "cell_type": "markdown",
   "metadata": {},
   "source": [
    "To modify this file we first create a copy"
   ]
  },
  {
   "cell_type": "code",
   "execution_count": 141,
   "metadata": {
    "collapsed": true
   },
   "outputs": [],
   "source": [
    "demographics_clean = demographics.copy()"
   ]
  },
  {
   "cell_type": "markdown",
   "metadata": {},
   "source": [
    "How many unique countries of origin and countries giving asylum are there?"
   ]
  },
  {
   "cell_type": "code",
   "execution_count": 142,
   "metadata": {},
   "outputs": [
    {
     "data": {
      "text/plain": [
       "222"
      ]
     },
     "execution_count": 142,
     "metadata": {},
     "output_type": "execute_result"
    }
   ],
   "source": [
    "seekers_clean.country_of_origin.nunique()"
   ]
  },
  {
   "cell_type": "code",
   "execution_count": 143,
   "metadata": {},
   "outputs": [
    {
     "data": {
      "text/plain": [
       "191"
      ]
     },
     "execution_count": 143,
     "metadata": {},
     "output_type": "execute_result"
    }
   ],
   "source": [
    "demographics_clean['Country / territory of asylum/residence'].nunique()"
   ]
  },
  {
   "cell_type": "markdown",
   "metadata": {},
   "source": [
    "For convenience we rename the columns"
   ]
  },
  {
   "cell_type": "code",
   "execution_count": 144,
   "metadata": {},
   "outputs": [
    {
     "data": {
      "text/plain": [
       "['year',\n",
       " 'country_giving_asylum',\n",
       " 'location_name',\n",
       " 'female_0-4',\n",
       " 'female_5-11',\n",
       " 'female_5-17',\n",
       " 'female_12-17',\n",
       " 'female_18-59',\n",
       " 'female_60+',\n",
       " 'f_unknown',\n",
       " 'f_total',\n",
       " 'male_0-4',\n",
       " 'male_5-11',\n",
       " 'male_5-17',\n",
       " 'male_12-17',\n",
       " 'male_18-59',\n",
       " 'male_60+',\n",
       " 'm_unknown',\n",
       " 'm_total']"
      ]
     },
     "execution_count": 144,
     "metadata": {},
     "output_type": "execute_result"
    }
   ],
   "source": [
    "new_column_names = demographics.keys().str.lower().str.replace(' ' , '_').str.replace(':' , '')\n",
    "\n",
    "new_column_names = list(new_column_names)\n",
    "\n",
    "new_column_names[1] = 'country_giving_asylum'\n",
    "\n",
    "new_column_names"
   ]
  },
  {
   "cell_type": "code",
   "execution_count": 145,
   "metadata": {
    "collapsed": true
   },
   "outputs": [],
   "source": [
    "dict_keys = dict(zip(demographics_clean.keys(),new_column_names))\n",
    "\n",
    "demographics_clean.rename(str , columns = dict_keys , inplace = True)"
   ]
  },
  {
   "cell_type": "markdown",
   "metadata": {},
   "source": [
    "Now we take a closer look at the table"
   ]
  },
  {
   "cell_type": "code",
   "execution_count": 146,
   "metadata": {},
   "outputs": [
    {
     "data": {
      "text/html": [
       "<div>\n",
       "<style>\n",
       "    .dataframe thead tr:only-child th {\n",
       "        text-align: right;\n",
       "    }\n",
       "\n",
       "    .dataframe thead th {\n",
       "        text-align: left;\n",
       "    }\n",
       "\n",
       "    .dataframe tbody tr th {\n",
       "        vertical-align: top;\n",
       "    }\n",
       "</style>\n",
       "<table border=\"1\" class=\"dataframe\">\n",
       "  <thead>\n",
       "    <tr style=\"text-align: right;\">\n",
       "      <th></th>\n",
       "      <th>year</th>\n",
       "      <th>country_giving_asylum</th>\n",
       "      <th>location_name</th>\n",
       "      <th>female_0-4</th>\n",
       "      <th>female_5-11</th>\n",
       "      <th>female_5-17</th>\n",
       "      <th>female_12-17</th>\n",
       "      <th>female_18-59</th>\n",
       "      <th>female_60+</th>\n",
       "      <th>f_unknown</th>\n",
       "      <th>f_total</th>\n",
       "      <th>male_0-4</th>\n",
       "      <th>male_5-11</th>\n",
       "      <th>male_5-17</th>\n",
       "      <th>male_12-17</th>\n",
       "      <th>male_18-59</th>\n",
       "      <th>male_60+</th>\n",
       "      <th>m_unknown</th>\n",
       "      <th>m_total</th>\n",
       "    </tr>\n",
       "  </thead>\n",
       "  <tbody>\n",
       "    <tr>\n",
       "      <th>5627</th>\n",
       "      <td>2008</td>\n",
       "      <td>Sri Lanka</td>\n",
       "      <td>Colombo</td>\n",
       "      <td>35</td>\n",
       "      <td>45</td>\n",
       "      <td>NaN</td>\n",
       "      <td>37</td>\n",
       "      <td>163</td>\n",
       "      <td>8</td>\n",
       "      <td>NaN</td>\n",
       "      <td>288</td>\n",
       "      <td>34</td>\n",
       "      <td>55</td>\n",
       "      <td>NaN</td>\n",
       "      <td>52</td>\n",
       "      <td>225</td>\n",
       "      <td>8</td>\n",
       "      <td>NaN</td>\n",
       "      <td>374</td>\n",
       "    </tr>\n",
       "    <tr>\n",
       "      <th>8834</th>\n",
       "      <td>2011</td>\n",
       "      <td>Gabon</td>\n",
       "      <td>Lekindou : Point</td>\n",
       "      <td>0</td>\n",
       "      <td>2</td>\n",
       "      <td>NaN</td>\n",
       "      <td>3</td>\n",
       "      <td>11</td>\n",
       "      <td>0</td>\n",
       "      <td>NaN</td>\n",
       "      <td>16</td>\n",
       "      <td>0</td>\n",
       "      <td>4</td>\n",
       "      <td>NaN</td>\n",
       "      <td>2</td>\n",
       "      <td>5</td>\n",
       "      <td>2</td>\n",
       "      <td>NaN</td>\n",
       "      <td>13</td>\n",
       "    </tr>\n",
       "    <tr>\n",
       "      <th>216</th>\n",
       "      <td>2001</td>\n",
       "      <td>China, Hong Kong SAR</td>\n",
       "      <td>Hong Kong</td>\n",
       "      <td>3</td>\n",
       "      <td>NaN</td>\n",
       "      <td>5.0</td>\n",
       "      <td>NaN</td>\n",
       "      <td>20</td>\n",
       "      <td>0</td>\n",
       "      <td>0.0</td>\n",
       "      <td>28</td>\n",
       "      <td>2</td>\n",
       "      <td>NaN</td>\n",
       "      <td>5.0</td>\n",
       "      <td>NaN</td>\n",
       "      <td>484</td>\n",
       "      <td>0</td>\n",
       "      <td>0.0</td>\n",
       "      <td>491</td>\n",
       "    </tr>\n",
       "    <tr>\n",
       "      <th>7852</th>\n",
       "      <td>2010</td>\n",
       "      <td>The former Yugoslav Republic of Macedonia</td>\n",
       "      <td>Kicevo : Opština - Municipality</td>\n",
       "      <td>1</td>\n",
       "      <td>0</td>\n",
       "      <td>NaN</td>\n",
       "      <td>0</td>\n",
       "      <td>19</td>\n",
       "      <td>1</td>\n",
       "      <td>0.0</td>\n",
       "      <td>21</td>\n",
       "      <td>0</td>\n",
       "      <td>4</td>\n",
       "      <td>NaN</td>\n",
       "      <td>1</td>\n",
       "      <td>10</td>\n",
       "      <td>0</td>\n",
       "      <td>0.0</td>\n",
       "      <td>15</td>\n",
       "    </tr>\n",
       "    <tr>\n",
       "      <th>1685</th>\n",
       "      <td>2003</td>\n",
       "      <td>Turkey</td>\n",
       "      <td>Kayseri</td>\n",
       "      <td>19</td>\n",
       "      <td>NaN</td>\n",
       "      <td>92.0</td>\n",
       "      <td>NaN</td>\n",
       "      <td>277</td>\n",
       "      <td>13</td>\n",
       "      <td>0.0</td>\n",
       "      <td>401</td>\n",
       "      <td>24</td>\n",
       "      <td>NaN</td>\n",
       "      <td>129.0</td>\n",
       "      <td>NaN</td>\n",
       "      <td>334</td>\n",
       "      <td>13</td>\n",
       "      <td>0.0</td>\n",
       "      <td>500</td>\n",
       "    </tr>\n",
       "    <tr>\n",
       "      <th>13378</th>\n",
       "      <td>2014</td>\n",
       "      <td>Syrian Arab Rep.</td>\n",
       "      <td>Aleppo : Mohafazah - Governorate</td>\n",
       "      <td>55</td>\n",
       "      <td>114</td>\n",
       "      <td>NaN</td>\n",
       "      <td>180</td>\n",
       "      <td>234</td>\n",
       "      <td>20</td>\n",
       "      <td>0.0</td>\n",
       "      <td>603</td>\n",
       "      <td>66</td>\n",
       "      <td>138</td>\n",
       "      <td>NaN</td>\n",
       "      <td>181</td>\n",
       "      <td>204</td>\n",
       "      <td>33</td>\n",
       "      <td>0.0</td>\n",
       "      <td>622</td>\n",
       "    </tr>\n",
       "    <tr>\n",
       "      <th>3280</th>\n",
       "      <td>2006</td>\n",
       "      <td>Angola</td>\n",
       "      <td>Kwanza Norte</td>\n",
       "      <td>0</td>\n",
       "      <td>NaN</td>\n",
       "      <td>NaN</td>\n",
       "      <td>8</td>\n",
       "      <td>5</td>\n",
       "      <td>0</td>\n",
       "      <td>NaN</td>\n",
       "      <td>13</td>\n",
       "      <td>1</td>\n",
       "      <td>3</td>\n",
       "      <td>NaN</td>\n",
       "      <td>7</td>\n",
       "      <td>11</td>\n",
       "      <td>0</td>\n",
       "      <td>NaN</td>\n",
       "      <td>22</td>\n",
       "    </tr>\n",
       "    <tr>\n",
       "      <th>18226</th>\n",
       "      <td>2016</td>\n",
       "      <td>Turkey</td>\n",
       "      <td>Burdur : Province</td>\n",
       "      <td>67</td>\n",
       "      <td>153</td>\n",
       "      <td>NaN</td>\n",
       "      <td>103</td>\n",
       "      <td>912</td>\n",
       "      <td>17</td>\n",
       "      <td>NaN</td>\n",
       "      <td>1252</td>\n",
       "      <td>102</td>\n",
       "      <td>176</td>\n",
       "      <td>NaN</td>\n",
       "      <td>121</td>\n",
       "      <td>1648</td>\n",
       "      <td>26</td>\n",
       "      <td>NaN</td>\n",
       "      <td>2073</td>\n",
       "    </tr>\n",
       "    <tr>\n",
       "      <th>12337</th>\n",
       "      <td>2014</td>\n",
       "      <td>Albania</td>\n",
       "      <td>Shkoder</td>\n",
       "      <td>0</td>\n",
       "      <td>0</td>\n",
       "      <td>NaN</td>\n",
       "      <td>2</td>\n",
       "      <td>2</td>\n",
       "      <td>0</td>\n",
       "      <td>0.0</td>\n",
       "      <td>4</td>\n",
       "      <td>1</td>\n",
       "      <td>0</td>\n",
       "      <td>NaN</td>\n",
       "      <td>0</td>\n",
       "      <td>3</td>\n",
       "      <td>0</td>\n",
       "      <td>0.0</td>\n",
       "      <td>4</td>\n",
       "    </tr>\n",
       "    <tr>\n",
       "      <th>11409</th>\n",
       "      <td>2013</td>\n",
       "      <td>Eritrea</td>\n",
       "      <td>Asmara : Point</td>\n",
       "      <td>5</td>\n",
       "      <td>4</td>\n",
       "      <td>NaN</td>\n",
       "      <td>1</td>\n",
       "      <td>9</td>\n",
       "      <td>0</td>\n",
       "      <td>0.0</td>\n",
       "      <td>19</td>\n",
       "      <td>3</td>\n",
       "      <td>5</td>\n",
       "      <td>NaN</td>\n",
       "      <td>2</td>\n",
       "      <td>8</td>\n",
       "      <td>1</td>\n",
       "      <td>0.0</td>\n",
       "      <td>19</td>\n",
       "    </tr>\n",
       "  </tbody>\n",
       "</table>\n",
       "</div>"
      ],
      "text/plain": [
       "       year                      country_giving_asylum  \\\n",
       "5627   2008                                  Sri Lanka   \n",
       "8834   2011                                      Gabon   \n",
       "216    2001                       China, Hong Kong SAR   \n",
       "7852   2010  The former Yugoslav Republic of Macedonia   \n",
       "1685   2003                                     Turkey   \n",
       "13378  2014                           Syrian Arab Rep.   \n",
       "3280   2006                                     Angola   \n",
       "18226  2016                                     Turkey   \n",
       "12337  2014                                    Albania   \n",
       "11409  2013                                    Eritrea   \n",
       "\n",
       "                          location_name female_0-4 female_5-11  female_5-17  \\\n",
       "5627                           Colombo          35          45          NaN   \n",
       "8834                   Lekindou : Point          0           2          NaN   \n",
       "216                           Hong Kong          3         NaN          5.0   \n",
       "7852    Kicevo : Opština - Municipality          1           0          NaN   \n",
       "1685                            Kayseri         19         NaN         92.0   \n",
       "13378  Aleppo : Mohafazah - Governorate         55         114          NaN   \n",
       "3280                       Kwanza Norte          0         NaN          NaN   \n",
       "18226                 Burdur : Province         67         153          NaN   \n",
       "12337                           Shkoder          0           0          NaN   \n",
       "11409                    Asmara : Point          5           4          NaN   \n",
       "\n",
       "      female_12-17 female_18-59 female_60+  f_unknown f_total male_0-4  \\\n",
       "5627            37          163          8        NaN     288       34   \n",
       "8834             3           11          0        NaN      16        0   \n",
       "216            NaN           20          0        0.0      28        2   \n",
       "7852             0           19          1        0.0      21        0   \n",
       "1685           NaN          277         13        0.0     401       24   \n",
       "13378          180          234         20        0.0     603       66   \n",
       "3280             8            5          0        NaN      13        1   \n",
       "18226          103          912         17        NaN    1252      102   \n",
       "12337            2            2          0        0.0       4        1   \n",
       "11409            1            9          0        0.0      19        3   \n",
       "\n",
       "      male_5-11  male_5-17 male_12-17 male_18-59 male_60+  m_unknown m_total  \n",
       "5627         55        NaN         52        225        8        NaN     374  \n",
       "8834          4        NaN          2          5        2        NaN      13  \n",
       "216         NaN        5.0        NaN        484        0        0.0     491  \n",
       "7852          4        NaN          1         10        0        0.0      15  \n",
       "1685        NaN      129.0        NaN        334       13        0.0     500  \n",
       "13378       138        NaN        181        204       33        0.0     622  \n",
       "3280          3        NaN          7         11        0        NaN      22  \n",
       "18226       176        NaN        121       1648       26        NaN    2073  \n",
       "12337         0        NaN          0          3        0        0.0       4  \n",
       "11409         5        NaN          2          8        1        0.0      19  "
      ]
     },
     "execution_count": 146,
     "metadata": {},
     "output_type": "execute_result"
    }
   ],
   "source": [
    "demographics_clean.sample(10)"
   ]
  },
  {
   "cell_type": "markdown",
   "metadata": {},
   "source": [
    "# Define issues for later cleansing\n",
    "\n",
    "###### - Quality Issues \n",
    "\n",
    "- Some entries are * for example row 16318\n",
    "\n",
    "######  - Tidiness Issues\n",
    "\n",
    "- ``m_unknown``,``f_unknown``, ``male_5-17``, ``female_5-17`` variables are `float` not `int`.\n"
   ]
  },
  {
   "cell_type": "markdown",
   "metadata": {},
   "source": [
    "## Concern File:"
   ]
  },
  {
   "cell_type": "markdown",
   "metadata": {},
   "source": [
    "We take a quick look at the next file"
   ]
  },
  {
   "cell_type": "code",
   "execution_count": 147,
   "metadata": {},
   "outputs": [
    {
     "data": {
      "text/html": [
       "<div>\n",
       "<style>\n",
       "    .dataframe thead tr:only-child th {\n",
       "        text-align: right;\n",
       "    }\n",
       "\n",
       "    .dataframe thead th {\n",
       "        text-align: left;\n",
       "    }\n",
       "\n",
       "    .dataframe tbody tr th {\n",
       "        vertical-align: top;\n",
       "    }\n",
       "</style>\n",
       "<table border=\"1\" class=\"dataframe\">\n",
       "  <thead>\n",
       "    <tr style=\"text-align: right;\">\n",
       "      <th></th>\n",
       "      <th>Year</th>\n",
       "      <th>Country / territory of asylum/residence</th>\n",
       "      <th>Origin</th>\n",
       "      <th>Refugees (incl. refugee-like situations)</th>\n",
       "      <th>Asylum-seekers (pending cases)</th>\n",
       "      <th>Returned refugees</th>\n",
       "      <th>Internally displaced persons (IDPs)</th>\n",
       "      <th>Returned IDPs</th>\n",
       "      <th>Stateless persons</th>\n",
       "      <th>Others of concern</th>\n",
       "      <th>Total Population</th>\n",
       "    </tr>\n",
       "  </thead>\n",
       "  <tbody>\n",
       "    <tr>\n",
       "      <th>3191</th>\n",
       "      <td>1985</td>\n",
       "      <td>Mexico</td>\n",
       "      <td>El Salvador</td>\n",
       "      <td>120000</td>\n",
       "      <td>NaN</td>\n",
       "      <td>NaN</td>\n",
       "      <td>NaN</td>\n",
       "      <td>NaN</td>\n",
       "      <td>NaN</td>\n",
       "      <td>NaN</td>\n",
       "      <td>120000</td>\n",
       "    </tr>\n",
       "    <tr>\n",
       "      <th>26824</th>\n",
       "      <td>2000</td>\n",
       "      <td>Viet Nam</td>\n",
       "      <td>Cambodia</td>\n",
       "      <td>15945</td>\n",
       "      <td>NaN</td>\n",
       "      <td>NaN</td>\n",
       "      <td>NaN</td>\n",
       "      <td>NaN</td>\n",
       "      <td>NaN</td>\n",
       "      <td>NaN</td>\n",
       "      <td>15945</td>\n",
       "    </tr>\n",
       "  </tbody>\n",
       "</table>\n",
       "</div>"
      ],
      "text/plain": [
       "       Year Country / territory of asylum/residence       Origin  \\\n",
       "3191   1985                                  Mexico  El Salvador   \n",
       "26824  2000                                Viet Nam     Cambodia   \n",
       "\n",
       "      Refugees (incl. refugee-like situations) Asylum-seekers (pending cases)  \\\n",
       "3191                                    120000                            NaN   \n",
       "26824                                    15945                            NaN   \n",
       "\n",
       "      Returned refugees  Internally displaced persons (IDPs)  Returned IDPs  \\\n",
       "3191                NaN                                  NaN            NaN   \n",
       "26824               NaN                                  NaN            NaN   \n",
       "\n",
       "      Stateless persons Others of concern Total Population  \n",
       "3191                NaN               NaN           120000  \n",
       "26824               NaN               NaN            15945  "
      ]
     },
     "execution_count": 147,
     "metadata": {},
     "output_type": "execute_result"
    }
   ],
   "source": [
    "concern.sample(2)"
   ]
  },
  {
   "cell_type": "markdown",
   "metadata": {},
   "source": [
    "To modify the data, we first create a copy"
   ]
  },
  {
   "cell_type": "code",
   "execution_count": 148,
   "metadata": {
    "collapsed": true
   },
   "outputs": [],
   "source": [
    "concern_clean = concern.copy()"
   ]
  },
  {
   "cell_type": "markdown",
   "metadata": {},
   "source": [
    "Rename the columns"
   ]
  },
  {
   "cell_type": "code",
   "execution_count": 149,
   "metadata": {},
   "outputs": [
    {
     "data": {
      "text/plain": [
       "['year',\n",
       " 'country_giving_asylum',\n",
       " 'country_of_origin',\n",
       " 'refugees',\n",
       " 'asylum_seekers_pending',\n",
       " 'returned_refugees',\n",
       " 'internally_displaced_persons',\n",
       " 'returned_idps',\n",
       " 'stateless_persons',\n",
       " 'others_of_concern',\n",
       " 'total_population']"
      ]
     },
     "execution_count": 149,
     "metadata": {},
     "output_type": "execute_result"
    }
   ],
   "source": [
    "new_column_names = concern.keys().str.lower().str.replace(' ' , '_')\n",
    "\n",
    "new_column_names = list(new_column_names)\n",
    "\n",
    "new_column_names[1] = 'country_giving_asylum'\n",
    "\n",
    "new_column_names[2] = 'country_of_origin'\n",
    "\n",
    "new_column_names[3] = 'refugees'\n",
    "\n",
    "new_column_names[4] = 'asylum_seekers_pending'\n",
    "\n",
    "new_column_names[6] = 'internally_displaced_persons'\n",
    "\n",
    "new_column_names"
   ]
  },
  {
   "cell_type": "code",
   "execution_count": 150,
   "metadata": {
    "collapsed": true
   },
   "outputs": [],
   "source": [
    "dict_keys = dict(zip(concern_clean.keys(),new_column_names))\n",
    "\n",
    "concern_clean.rename(str , columns = dict_keys , inplace = True)"
   ]
  },
  {
   "cell_type": "markdown",
   "metadata": {},
   "source": [
    "We take a closer look at our data"
   ]
  },
  {
   "cell_type": "code",
   "execution_count": 151,
   "metadata": {},
   "outputs": [
    {
     "data": {
      "text/html": [
       "<div>\n",
       "<style>\n",
       "    .dataframe thead tr:only-child th {\n",
       "        text-align: right;\n",
       "    }\n",
       "\n",
       "    .dataframe thead th {\n",
       "        text-align: left;\n",
       "    }\n",
       "\n",
       "    .dataframe tbody tr th {\n",
       "        vertical-align: top;\n",
       "    }\n",
       "</style>\n",
       "<table border=\"1\" class=\"dataframe\">\n",
       "  <thead>\n",
       "    <tr style=\"text-align: right;\">\n",
       "      <th></th>\n",
       "      <th>year</th>\n",
       "      <th>country_giving_asylum</th>\n",
       "      <th>country_of_origin</th>\n",
       "      <th>refugees</th>\n",
       "      <th>asylum_seekers_pending</th>\n",
       "      <th>returned_refugees</th>\n",
       "      <th>internally_displaced_persons</th>\n",
       "      <th>returned_idps</th>\n",
       "      <th>stateless_persons</th>\n",
       "      <th>others_of_concern</th>\n",
       "      <th>total_population</th>\n",
       "    </tr>\n",
       "  </thead>\n",
       "  <tbody>\n",
       "    <tr>\n",
       "      <th>74724</th>\n",
       "      <td>2010</td>\n",
       "      <td>United Kingdom</td>\n",
       "      <td>Cook Islands</td>\n",
       "      <td>1</td>\n",
       "      <td>NaN</td>\n",
       "      <td>NaN</td>\n",
       "      <td>NaN</td>\n",
       "      <td>NaN</td>\n",
       "      <td>NaN</td>\n",
       "      <td>NaN</td>\n",
       "      <td>1</td>\n",
       "    </tr>\n",
       "    <tr>\n",
       "      <th>68297</th>\n",
       "      <td>2009</td>\n",
       "      <td>Germany</td>\n",
       "      <td>Ecuador</td>\n",
       "      <td>127</td>\n",
       "      <td>3</td>\n",
       "      <td>NaN</td>\n",
       "      <td>NaN</td>\n",
       "      <td>NaN</td>\n",
       "      <td>NaN</td>\n",
       "      <td>NaN</td>\n",
       "      <td>130</td>\n",
       "    </tr>\n",
       "    <tr>\n",
       "      <th>80340</th>\n",
       "      <td>2011</td>\n",
       "      <td>Estonia</td>\n",
       "      <td>Turkmenistan</td>\n",
       "      <td>2</td>\n",
       "      <td>NaN</td>\n",
       "      <td>NaN</td>\n",
       "      <td>NaN</td>\n",
       "      <td>NaN</td>\n",
       "      <td>NaN</td>\n",
       "      <td>NaN</td>\n",
       "      <td>2</td>\n",
       "    </tr>\n",
       "    <tr>\n",
       "      <th>92652</th>\n",
       "      <td>2013</td>\n",
       "      <td>Finland</td>\n",
       "      <td>Côte d'Ivoire</td>\n",
       "      <td>14</td>\n",
       "      <td>2</td>\n",
       "      <td>NaN</td>\n",
       "      <td>NaN</td>\n",
       "      <td>NaN</td>\n",
       "      <td>NaN</td>\n",
       "      <td>NaN</td>\n",
       "      <td>16</td>\n",
       "    </tr>\n",
       "    <tr>\n",
       "      <th>102675</th>\n",
       "      <td>2014</td>\n",
       "      <td>Sweden</td>\n",
       "      <td>Chad</td>\n",
       "      <td>6</td>\n",
       "      <td>14</td>\n",
       "      <td>0</td>\n",
       "      <td>0.0</td>\n",
       "      <td>0.0</td>\n",
       "      <td>0</td>\n",
       "      <td>0</td>\n",
       "      <td>20</td>\n",
       "    </tr>\n",
       "    <tr>\n",
       "      <th>61676</th>\n",
       "      <td>2008</td>\n",
       "      <td>Belgium</td>\n",
       "      <td>Russian Federation</td>\n",
       "      <td>3981</td>\n",
       "      <td>0</td>\n",
       "      <td>NaN</td>\n",
       "      <td>NaN</td>\n",
       "      <td>NaN</td>\n",
       "      <td>NaN</td>\n",
       "      <td>NaN</td>\n",
       "      <td>3981</td>\n",
       "    </tr>\n",
       "    <tr>\n",
       "      <th>115152</th>\n",
       "      <td>2016</td>\n",
       "      <td>Nigeria</td>\n",
       "      <td>Afghanistan</td>\n",
       "      <td>5</td>\n",
       "      <td>0</td>\n",
       "      <td>0</td>\n",
       "      <td>0.0</td>\n",
       "      <td>0.0</td>\n",
       "      <td>0</td>\n",
       "      <td>0</td>\n",
       "      <td>5</td>\n",
       "    </tr>\n",
       "    <tr>\n",
       "      <th>14930</th>\n",
       "      <td>1997</td>\n",
       "      <td>Denmark</td>\n",
       "      <td>Uganda</td>\n",
       "      <td>101</td>\n",
       "      <td>NaN</td>\n",
       "      <td>NaN</td>\n",
       "      <td>NaN</td>\n",
       "      <td>NaN</td>\n",
       "      <td>NaN</td>\n",
       "      <td>NaN</td>\n",
       "      <td>101</td>\n",
       "    </tr>\n",
       "    <tr>\n",
       "      <th>24804</th>\n",
       "      <td>2000</td>\n",
       "      <td>China, Hong Kong SAR</td>\n",
       "      <td>Pakistan</td>\n",
       "      <td>3</td>\n",
       "      <td>20</td>\n",
       "      <td>NaN</td>\n",
       "      <td>NaN</td>\n",
       "      <td>NaN</td>\n",
       "      <td>NaN</td>\n",
       "      <td>NaN</td>\n",
       "      <td>23</td>\n",
       "    </tr>\n",
       "    <tr>\n",
       "      <th>62255</th>\n",
       "      <td>2008</td>\n",
       "      <td>Switzerland</td>\n",
       "      <td>Sri Lanka</td>\n",
       "      <td>2464</td>\n",
       "      <td>1406</td>\n",
       "      <td>NaN</td>\n",
       "      <td>NaN</td>\n",
       "      <td>NaN</td>\n",
       "      <td>NaN</td>\n",
       "      <td>NaN</td>\n",
       "      <td>3870</td>\n",
       "    </tr>\n",
       "  </tbody>\n",
       "</table>\n",
       "</div>"
      ],
      "text/plain": [
       "        year country_giving_asylum   country_of_origin refugees  \\\n",
       "74724   2010        United Kingdom        Cook Islands        1   \n",
       "68297   2009               Germany             Ecuador      127   \n",
       "80340   2011               Estonia        Turkmenistan        2   \n",
       "92652   2013               Finland       Côte d'Ivoire       14   \n",
       "102675  2014                Sweden                Chad        6   \n",
       "61676   2008               Belgium  Russian Federation     3981   \n",
       "115152  2016               Nigeria         Afghanistan        5   \n",
       "14930   1997               Denmark              Uganda      101   \n",
       "24804   2000  China, Hong Kong SAR            Pakistan        3   \n",
       "62255   2008           Switzerland           Sri Lanka     2464   \n",
       "\n",
       "       asylum_seekers_pending returned_refugees  internally_displaced_persons  \\\n",
       "74724                     NaN               NaN                           NaN   \n",
       "68297                       3               NaN                           NaN   \n",
       "80340                     NaN               NaN                           NaN   \n",
       "92652                       2               NaN                           NaN   \n",
       "102675                     14                 0                           0.0   \n",
       "61676                       0               NaN                           NaN   \n",
       "115152                      0                 0                           0.0   \n",
       "14930                     NaN               NaN                           NaN   \n",
       "24804                      20               NaN                           NaN   \n",
       "62255                    1406               NaN                           NaN   \n",
       "\n",
       "        returned_idps stateless_persons others_of_concern total_population  \n",
       "74724             NaN               NaN               NaN                1  \n",
       "68297             NaN               NaN               NaN              130  \n",
       "80340             NaN               NaN               NaN                2  \n",
       "92652             NaN               NaN               NaN               16  \n",
       "102675            0.0                 0                 0               20  \n",
       "61676             NaN               NaN               NaN             3981  \n",
       "115152            0.0                 0                 0                5  \n",
       "14930             NaN               NaN               NaN              101  \n",
       "24804             NaN               NaN               NaN               23  \n",
       "62255             NaN               NaN               NaN             3870  "
      ]
     },
     "execution_count": 151,
     "metadata": {},
     "output_type": "execute_result"
    }
   ],
   "source": [
    "concern_clean.sample(10)"
   ]
  },
  {
   "cell_type": "markdown",
   "metadata": {},
   "source": [
    "How many countries are included in the data?"
   ]
  },
  {
   "cell_type": "code",
   "execution_count": 152,
   "metadata": {},
   "outputs": [
    {
     "data": {
      "text/plain": [
       "222"
      ]
     },
     "execution_count": 152,
     "metadata": {},
     "output_type": "execute_result"
    }
   ],
   "source": [
    "seekers_clean.country_of_origin.nunique()"
   ]
  },
  {
   "cell_type": "code",
   "execution_count": 153,
   "metadata": {},
   "outputs": [
    {
     "data": {
      "text/plain": [
       "222"
      ]
     },
     "execution_count": 153,
     "metadata": {},
     "output_type": "execute_result"
    }
   ],
   "source": [
    "concern_clean.country_of_origin.nunique()"
   ]
  },
  {
   "cell_type": "markdown",
   "metadata": {},
   "source": [
    "# Define issues for later cleansing\n",
    "\n",
    "###### - Quality Issues \n",
    "\n",
    "- Some entries are * for example row 115185\n",
    "\n",
    "######  - Tidiness Issues\n",
    "\n",
    "- ``internally_displaced_persons``,``returned_idps`` variables are `float` not `int`.\n"
   ]
  },
  {
   "cell_type": "markdown",
   "metadata": {},
   "source": [
    "## Resettlement File:"
   ]
  },
  {
   "cell_type": "markdown",
   "metadata": {},
   "source": [
    "Quick look at the data"
   ]
  },
  {
   "cell_type": "code",
   "execution_count": 154,
   "metadata": {},
   "outputs": [
    {
     "data": {
      "text/html": [
       "<div>\n",
       "<style>\n",
       "    .dataframe thead tr:only-child th {\n",
       "        text-align: right;\n",
       "    }\n",
       "\n",
       "    .dataframe thead th {\n",
       "        text-align: left;\n",
       "    }\n",
       "\n",
       "    .dataframe tbody tr th {\n",
       "        vertical-align: top;\n",
       "    }\n",
       "</style>\n",
       "<table border=\"1\" class=\"dataframe\">\n",
       "  <thead>\n",
       "    <tr style=\"text-align: right;\">\n",
       "      <th></th>\n",
       "      <th>Country / territory of asylum/residence</th>\n",
       "      <th>Origin</th>\n",
       "      <th>Year</th>\n",
       "      <th>Value</th>\n",
       "    </tr>\n",
       "  </thead>\n",
       "  <tbody>\n",
       "    <tr>\n",
       "      <th>3653</th>\n",
       "      <td>Australia</td>\n",
       "      <td>Sri Lanka</td>\n",
       "      <td>2001</td>\n",
       "      <td>60</td>\n",
       "    </tr>\n",
       "    <tr>\n",
       "      <th>6535</th>\n",
       "      <td>Canada</td>\n",
       "      <td>Israel</td>\n",
       "      <td>2010</td>\n",
       "      <td>2</td>\n",
       "    </tr>\n",
       "  </tbody>\n",
       "</table>\n",
       "</div>"
      ],
      "text/plain": [
       "     Country / territory of asylum/residence     Origin  Year Value\n",
       "3653                               Australia  Sri Lanka  2001    60\n",
       "6535                                  Canada     Israel  2010     2"
      ]
     },
     "execution_count": 154,
     "metadata": {},
     "output_type": "execute_result"
    }
   ],
   "source": [
    "resettlement.sample(2)"
   ]
  },
  {
   "cell_type": "markdown",
   "metadata": {},
   "source": [
    "Create a copy"
   ]
  },
  {
   "cell_type": "code",
   "execution_count": 155,
   "metadata": {
    "collapsed": true
   },
   "outputs": [],
   "source": [
    "resettlement_clean = resettlement.copy()"
   ]
  },
  {
   "cell_type": "markdown",
   "metadata": {},
   "source": [
    "Rename the columns"
   ]
  },
  {
   "cell_type": "code",
   "execution_count": 156,
   "metadata": {},
   "outputs": [
    {
     "data": {
      "text/plain": [
       "Index(['country / territory of asylum/residence', 'origin', 'year', 'value'], dtype='object')"
      ]
     },
     "execution_count": 156,
     "metadata": {},
     "output_type": "execute_result"
    }
   ],
   "source": [
    "new_column_names = resettlement.keys().str.lower()\n",
    "\n",
    "new_column_names"
   ]
  },
  {
   "cell_type": "code",
   "execution_count": 157,
   "metadata": {},
   "outputs": [
    {
     "data": {
      "text/plain": [
       "['country_giving_asylum', 'origin', 'year', 'value']"
      ]
     },
     "execution_count": 157,
     "metadata": {},
     "output_type": "execute_result"
    }
   ],
   "source": [
    "new_column_names = list(new_column_names)\n",
    "\n",
    "new_column_names[0] = 'country_giving_asylum'\n",
    "\n",
    "new_column_names"
   ]
  },
  {
   "cell_type": "code",
   "execution_count": 158,
   "metadata": {
    "collapsed": true
   },
   "outputs": [],
   "source": [
    "dict_keys = dict(zip(resettlement.keys(),new_column_names))\n",
    "\n",
    "resettlement_clean.rename(str , columns = dict_keys , inplace = True)"
   ]
  },
  {
   "cell_type": "markdown",
   "metadata": {},
   "source": [
    "Take a closer look"
   ]
  },
  {
   "cell_type": "code",
   "execution_count": 159,
   "metadata": {},
   "outputs": [
    {
     "data": {
      "text/html": [
       "<div>\n",
       "<style>\n",
       "    .dataframe thead tr:only-child th {\n",
       "        text-align: right;\n",
       "    }\n",
       "\n",
       "    .dataframe thead th {\n",
       "        text-align: left;\n",
       "    }\n",
       "\n",
       "    .dataframe tbody tr th {\n",
       "        vertical-align: top;\n",
       "    }\n",
       "</style>\n",
       "<table border=\"1\" class=\"dataframe\">\n",
       "  <thead>\n",
       "    <tr style=\"text-align: right;\">\n",
       "      <th></th>\n",
       "      <th>country_giving_asylum</th>\n",
       "      <th>origin</th>\n",
       "      <th>year</th>\n",
       "      <th>value</th>\n",
       "    </tr>\n",
       "  </thead>\n",
       "  <tbody>\n",
       "    <tr>\n",
       "      <th>8625</th>\n",
       "      <td>Australia</td>\n",
       "      <td>Algeria</td>\n",
       "      <td>2016</td>\n",
       "      <td>15</td>\n",
       "    </tr>\n",
       "    <tr>\n",
       "      <th>8481</th>\n",
       "      <td>Norway</td>\n",
       "      <td>Uganda</td>\n",
       "      <td>2015</td>\n",
       "      <td>1</td>\n",
       "    </tr>\n",
       "    <tr>\n",
       "      <th>2796</th>\n",
       "      <td>United States of America</td>\n",
       "      <td>Russian Federation</td>\n",
       "      <td>1997</td>\n",
       "      <td>27072</td>\n",
       "    </tr>\n",
       "    <tr>\n",
       "      <th>6232</th>\n",
       "      <td>Finland</td>\n",
       "      <td>Russian Federation</td>\n",
       "      <td>2009</td>\n",
       "      <td>5</td>\n",
       "    </tr>\n",
       "    <tr>\n",
       "      <th>4155</th>\n",
       "      <td>Australia</td>\n",
       "      <td>Dem. Rep. of the Congo</td>\n",
       "      <td>2003</td>\n",
       "      <td>20</td>\n",
       "    </tr>\n",
       "    <tr>\n",
       "      <th>4744</th>\n",
       "      <td>United States of America</td>\n",
       "      <td>Rep. of Moldova</td>\n",
       "      <td>2004</td>\n",
       "      <td>1711</td>\n",
       "    </tr>\n",
       "    <tr>\n",
       "      <th>7433</th>\n",
       "      <td>Sweden</td>\n",
       "      <td>Saudi Arabia</td>\n",
       "      <td>2012</td>\n",
       "      <td>1</td>\n",
       "    </tr>\n",
       "    <tr>\n",
       "      <th>5204</th>\n",
       "      <td>Canada</td>\n",
       "      <td>Mauritania</td>\n",
       "      <td>2006</td>\n",
       "      <td>43</td>\n",
       "    </tr>\n",
       "    <tr>\n",
       "      <th>517</th>\n",
       "      <td>Canada</td>\n",
       "      <td>Chile</td>\n",
       "      <td>1983</td>\n",
       "      <td>91</td>\n",
       "    </tr>\n",
       "    <tr>\n",
       "      <th>6345</th>\n",
       "      <td>Sweden</td>\n",
       "      <td>Namibia</td>\n",
       "      <td>2009</td>\n",
       "      <td>12</td>\n",
       "    </tr>\n",
       "  </tbody>\n",
       "</table>\n",
       "</div>"
      ],
      "text/plain": [
       "         country_giving_asylum                  origin  year  value\n",
       "8625                 Australia                 Algeria  2016     15\n",
       "8481                    Norway                  Uganda  2015      1\n",
       "2796  United States of America      Russian Federation  1997  27072\n",
       "6232                   Finland      Russian Federation  2009      5\n",
       "4155                 Australia  Dem. Rep. of the Congo  2003     20\n",
       "4744  United States of America         Rep. of Moldova  2004   1711\n",
       "7433                    Sweden            Saudi Arabia  2012      1\n",
       "5204                    Canada              Mauritania  2006     43\n",
       "517                     Canada                   Chile  1983     91\n",
       "6345                    Sweden                 Namibia  2009     12"
      ]
     },
     "execution_count": 159,
     "metadata": {},
     "output_type": "execute_result"
    }
   ],
   "source": [
    "resettlement_clean.sample(10)"
   ]
  },
  {
   "cell_type": "markdown",
   "metadata": {},
   "source": [
    "# Define issues for later cleansing\n",
    "\n",
    "There seem to be no issues. However note that there might be inconsistency at the countries names between the different datasets. We will explore this later.\n"
   ]
  },
  {
   "cell_type": "markdown",
   "metadata": {},
   "source": [
    "## Time series File:"
   ]
  },
  {
   "cell_type": "markdown",
   "metadata": {},
   "source": [
    "Quick look"
   ]
  },
  {
   "cell_type": "code",
   "execution_count": 160,
   "metadata": {},
   "outputs": [
    {
     "data": {
      "text/html": [
       "<div>\n",
       "<style>\n",
       "    .dataframe thead tr:only-child th {\n",
       "        text-align: right;\n",
       "    }\n",
       "\n",
       "    .dataframe thead th {\n",
       "        text-align: left;\n",
       "    }\n",
       "\n",
       "    .dataframe tbody tr th {\n",
       "        vertical-align: top;\n",
       "    }\n",
       "</style>\n",
       "<table border=\"1\" class=\"dataframe\">\n",
       "  <thead>\n",
       "    <tr style=\"text-align: right;\">\n",
       "      <th></th>\n",
       "      <th>Year</th>\n",
       "      <th>Country / territory of asylum/residence</th>\n",
       "      <th>Origin</th>\n",
       "      <th>Population type</th>\n",
       "      <th>Value</th>\n",
       "    </tr>\n",
       "  </thead>\n",
       "  <tbody>\n",
       "    <tr>\n",
       "      <th>53228</th>\n",
       "      <td>2004</td>\n",
       "      <td>Ecuador</td>\n",
       "      <td>Swaziland</td>\n",
       "      <td>Asylum-seekers</td>\n",
       "      <td>1</td>\n",
       "    </tr>\n",
       "    <tr>\n",
       "      <th>85602</th>\n",
       "      <td>2008</td>\n",
       "      <td>Switzerland</td>\n",
       "      <td>Pakistan</td>\n",
       "      <td>Asylum-seekers</td>\n",
       "      <td>49</td>\n",
       "    </tr>\n",
       "  </tbody>\n",
       "</table>\n",
       "</div>"
      ],
      "text/plain": [
       "       Year Country / territory of asylum/residence     Origin  \\\n",
       "53228  2004                                 Ecuador  Swaziland   \n",
       "85602  2008                             Switzerland   Pakistan   \n",
       "\n",
       "      Population type Value  \n",
       "53228  Asylum-seekers     1  \n",
       "85602  Asylum-seekers    49  "
      ]
     },
     "execution_count": 160,
     "metadata": {},
     "output_type": "execute_result"
    }
   ],
   "source": [
    "time_series.sample(2)"
   ]
  },
  {
   "cell_type": "markdown",
   "metadata": {},
   "source": [
    "Create a copy"
   ]
  },
  {
   "cell_type": "code",
   "execution_count": 161,
   "metadata": {
    "collapsed": true
   },
   "outputs": [],
   "source": [
    "time_series_clean = time_series.copy()"
   ]
  },
  {
   "cell_type": "markdown",
   "metadata": {},
   "source": [
    "Rename columns"
   ]
  },
  {
   "cell_type": "code",
   "execution_count": 162,
   "metadata": {},
   "outputs": [
    {
     "data": {
      "text/plain": [
       "['year',\n",
       " 'country_giving_asylum',\n",
       " 'country_of_origin',\n",
       " 'population_type',\n",
       " 'value']"
      ]
     },
     "execution_count": 162,
     "metadata": {},
     "output_type": "execute_result"
    }
   ],
   "source": [
    "new_column_names = time_series.keys().str.lower()\n",
    "\n",
    "new_column_names = list(new_column_names)\n",
    "\n",
    "new_column_names[1] = 'country_giving_asylum'\n",
    "new_column_names[2] = 'country_of_origin'\n",
    "new_column_names[3] = 'population_type'\n",
    "\n",
    "new_column_names "
   ]
  },
  {
   "cell_type": "code",
   "execution_count": 163,
   "metadata": {
    "collapsed": true
   },
   "outputs": [],
   "source": [
    "dict_keys = dict(zip(time_series_clean.keys(),new_column_names))\n",
    "\n",
    "time_series_clean.rename(str , columns = dict_keys , inplace = True)"
   ]
  },
  {
   "cell_type": "markdown",
   "metadata": {},
   "source": [
    "Take a closer look"
   ]
  },
  {
   "cell_type": "code",
   "execution_count": 164,
   "metadata": {},
   "outputs": [
    {
     "data": {
      "text/html": [
       "<div>\n",
       "<style>\n",
       "    .dataframe thead tr:only-child th {\n",
       "        text-align: right;\n",
       "    }\n",
       "\n",
       "    .dataframe thead th {\n",
       "        text-align: left;\n",
       "    }\n",
       "\n",
       "    .dataframe tbody tr th {\n",
       "        vertical-align: top;\n",
       "    }\n",
       "</style>\n",
       "<table border=\"1\" class=\"dataframe\">\n",
       "  <thead>\n",
       "    <tr style=\"text-align: right;\">\n",
       "      <th></th>\n",
       "      <th>year</th>\n",
       "      <th>country_giving_asylum</th>\n",
       "      <th>country_of_origin</th>\n",
       "      <th>population_type</th>\n",
       "      <th>value</th>\n",
       "    </tr>\n",
       "  </thead>\n",
       "  <tbody>\n",
       "    <tr>\n",
       "      <th>218459</th>\n",
       "      <td>2015</td>\n",
       "      <td>Estonia</td>\n",
       "      <td>Palestinian</td>\n",
       "      <td>Asylum-seekers</td>\n",
       "      <td>2</td>\n",
       "    </tr>\n",
       "    <tr>\n",
       "      <th>151769</th>\n",
       "      <td>2014</td>\n",
       "      <td>Austria</td>\n",
       "      <td>Romania</td>\n",
       "      <td>Stateless</td>\n",
       "      <td>0</td>\n",
       "    </tr>\n",
       "    <tr>\n",
       "      <th>227230</th>\n",
       "      <td>2015</td>\n",
       "      <td>Italy</td>\n",
       "      <td>Azerbaijan</td>\n",
       "      <td>Asylum-seekers</td>\n",
       "      <td>8</td>\n",
       "    </tr>\n",
       "    <tr>\n",
       "      <th>258972</th>\n",
       "      <td>2016</td>\n",
       "      <td>Canada</td>\n",
       "      <td>Yemen</td>\n",
       "      <td>Refugees (incl. refugee-like situations)</td>\n",
       "      <td>390</td>\n",
       "    </tr>\n",
       "    <tr>\n",
       "      <th>59417</th>\n",
       "      <td>2005</td>\n",
       "      <td>Canada</td>\n",
       "      <td>Mauritania</td>\n",
       "      <td>Asylum-seekers</td>\n",
       "      <td>82</td>\n",
       "    </tr>\n",
       "    <tr>\n",
       "      <th>161078</th>\n",
       "      <td>2014</td>\n",
       "      <td>Cyprus</td>\n",
       "      <td>Mongolia</td>\n",
       "      <td>Returnees</td>\n",
       "      <td>0</td>\n",
       "    </tr>\n",
       "    <tr>\n",
       "      <th>144794</th>\n",
       "      <td>2013</td>\n",
       "      <td>Namibia</td>\n",
       "      <td>Ethiopia</td>\n",
       "      <td>Asylum-seekers</td>\n",
       "      <td>1</td>\n",
       "    </tr>\n",
       "    <tr>\n",
       "      <th>89796</th>\n",
       "      <td>2008</td>\n",
       "      <td>Lithuania</td>\n",
       "      <td>Turkey</td>\n",
       "      <td>Asylum-seekers</td>\n",
       "      <td>0</td>\n",
       "    </tr>\n",
       "    <tr>\n",
       "      <th>246272</th>\n",
       "      <td>2015</td>\n",
       "      <td>Turkey</td>\n",
       "      <td>Sudan</td>\n",
       "      <td>Others of concern</td>\n",
       "      <td>0</td>\n",
       "    </tr>\n",
       "    <tr>\n",
       "      <th>291115</th>\n",
       "      <td>2016</td>\n",
       "      <td>Slovenia</td>\n",
       "      <td>Syrian Arab Rep.</td>\n",
       "      <td>Returned IDPs</td>\n",
       "      <td>0</td>\n",
       "    </tr>\n",
       "  </tbody>\n",
       "</table>\n",
       "</div>"
      ],
      "text/plain": [
       "        year country_giving_asylum country_of_origin  \\\n",
       "218459  2015               Estonia       Palestinian   \n",
       "151769  2014               Austria           Romania   \n",
       "227230  2015                 Italy        Azerbaijan   \n",
       "258972  2016                Canada             Yemen   \n",
       "59417   2005                Canada        Mauritania   \n",
       "161078  2014                Cyprus          Mongolia   \n",
       "144794  2013               Namibia          Ethiopia   \n",
       "89796   2008             Lithuania            Turkey   \n",
       "246272  2015                Turkey             Sudan   \n",
       "291115  2016              Slovenia  Syrian Arab Rep.   \n",
       "\n",
       "                                 population_type value  \n",
       "218459                            Asylum-seekers     2  \n",
       "151769                                 Stateless     0  \n",
       "227230                            Asylum-seekers     8  \n",
       "258972  Refugees (incl. refugee-like situations)   390  \n",
       "59417                             Asylum-seekers    82  \n",
       "161078                                 Returnees     0  \n",
       "144794                            Asylum-seekers     1  \n",
       "89796                             Asylum-seekers     0  \n",
       "246272                         Others of concern     0  \n",
       "291115                             Returned IDPs     0  "
      ]
     },
     "execution_count": 164,
     "metadata": {},
     "output_type": "execute_result"
    }
   ],
   "source": [
    "time_series_clean.sample(10)"
   ]
  },
  {
   "cell_type": "markdown",
   "metadata": {},
   "source": [
    "# Define issues for later cleansing\n",
    "\n",
    "###### - Quality Issues \n",
    "\n",
    "- Some entries are * for example row 295557\n",
    "\n",
    "######  - Tidiness Issues\n",
    "\n",
    "- None"
   ]
  },
  {
   "cell_type": "markdown",
   "metadata": {},
   "source": [
    "# Cleansing: "
   ]
  },
  {
   "cell_type": "markdown",
   "metadata": {},
   "source": [
    "Remember the 6 files are: seekers demographics concern resettlement time_series"
   ]
  },
  {
   "cell_type": "code",
   "execution_count": 165,
   "metadata": {
    "collapsed": true
   },
   "outputs": [],
   "source": [
    "files = [seekers_clean , demographics_clean , concern_clean , resettlement_clean , time_series_clean]"
   ]
  },
  {
   "cell_type": "markdown",
   "metadata": {},
   "source": [
    "We replace '*' by 0 for every entry in each of the 6 files."
   ]
  },
  {
   "cell_type": "code",
   "execution_count": 166,
   "metadata": {
    "collapsed": true
   },
   "outputs": [],
   "source": [
    "for file in files:\n",
    "    file.replace('*' , 0 , inplace = True)"
   ]
  },
  {
   "cell_type": "markdown",
   "metadata": {},
   "source": [
    "Entries that should be numbers (either float or int) are strings"
   ]
  },
  {
   "cell_type": "code",
   "execution_count": 167,
   "metadata": {},
   "outputs": [
    {
     "name": "stdout",
     "output_type": "stream",
     "text": [
      "<class 'pandas.core.frame.DataFrame'>\n",
      "Index: 129720 entries, 0 to 129719\n",
      "Data columns (total 14 columns):\n",
      "year                       129720 non-null int64\n",
      "country_giving_asylum      129720 non-null object\n",
      "country_of_origin          129720 non-null object\n",
      "rsd_type                   129719 non-null object\n",
      "total_pending_startyear    124578 non-null object\n",
      "unhcrassisted_startyear    118962 non-null object\n",
      "applied_during_year        126222 non-null object\n",
      "decisions_recognized       119886 non-null object\n",
      "decisions_other            114974 non-null object\n",
      "rejected                   121615 non-null object\n",
      "otherwise_closed           120850 non-null object\n",
      "total_decisions            97082 non-null object\n",
      "total_pending_endyear      125832 non-null object\n",
      "unhcrassisted_endyear      121883 non-null object\n",
      "dtypes: int64(1), object(13)\n",
      "memory usage: 14.8+ MB\n"
     ]
    }
   ],
   "source": [
    "seekers_clean.info()"
   ]
  },
  {
   "cell_type": "markdown",
   "metadata": {},
   "source": [
    "We convert every entry to float, when possible"
   ]
  },
  {
   "cell_type": "code",
   "execution_count": 168,
   "metadata": {
    "collapsed": true
   },
   "outputs": [],
   "source": [
    "for col in list(concern_clean.keys()[3:]):\n",
    "    concern_clean[col] = pd.to_numeric(concern_clean[col], errors='ignore' , downcast = 'integer')"
   ]
  },
  {
   "cell_type": "code",
   "execution_count": 169,
   "metadata": {
    "collapsed": true
   },
   "outputs": [],
   "source": [
    "for col in list(seekers_clean.keys()[4:]):\n",
    "    seekers_clean[col] = pd.to_numeric(seekers_clean[col], errors='ignore' , downcast = 'integer')"
   ]
  },
  {
   "cell_type": "code",
   "execution_count": 170,
   "metadata": {
    "collapsed": true
   },
   "outputs": [],
   "source": [
    "for col in list(demographics_clean.keys()[3:]):\n",
    "    demographics_clean[col] = pd.to_numeric(demographics_clean[col], errors='ignore' , downcast = 'integer')"
   ]
  },
  {
   "cell_type": "markdown",
   "metadata": {},
   "source": [
    "# Further manipulation"
   ]
  },
  {
   "cell_type": "markdown",
   "metadata": {},
   "source": [
    "We want to calculate an acceptance rate for every entry. We will do this by taking the ratio of `total_pending_endyear` and `total_pending_startyear + applied_during_year`. However we have to exclude missing values to do so and have to check, whether these entries can be excluded without deleting a huge amount of refugees."
   ]
  },
  {
   "cell_type": "code",
   "execution_count": 171,
   "metadata": {},
   "outputs": [
    {
     "data": {
      "text/plain": [
       "450856.0"
      ]
     },
     "execution_count": 171,
     "metadata": {},
     "output_type": "execute_result"
    }
   ],
   "source": [
    "seekers_clean[seekers_clean.applied_during_year.isnull()].total_pending_startyear.sum()"
   ]
  },
  {
   "cell_type": "code",
   "execution_count": 172,
   "metadata": {},
   "outputs": [
    {
     "data": {
      "text/plain": [
       "278290.0"
      ]
     },
     "execution_count": 172,
     "metadata": {},
     "output_type": "execute_result"
    }
   ],
   "source": [
    "seekers_clean[seekers_clean.total_pending_endyear.isnull()].applied_during_year.sum()"
   ]
  },
  {
   "cell_type": "code",
   "execution_count": 173,
   "metadata": {},
   "outputs": [
    {
     "data": {
      "text/plain": [
       "23247.0"
      ]
     },
     "execution_count": 173,
     "metadata": {},
     "output_type": "execute_result"
    }
   ],
   "source": [
    "seekers_clean[seekers_clean.total_pending_startyear.isnull()].total_pending_endyear.sum()"
   ]
  },
  {
   "cell_type": "markdown",
   "metadata": {},
   "source": [
    "We look at the aggregated number of refugees for comparison"
   ]
  },
  {
   "cell_type": "code",
   "execution_count": 174,
   "metadata": {},
   "outputs": [
    {
     "data": {
      "text/plain": [
       "18336070.0"
      ]
     },
     "execution_count": 174,
     "metadata": {},
     "output_type": "execute_result"
    }
   ],
   "source": [
    "seekers_clean.total_pending_startyear.sum()"
   ]
  },
  {
   "cell_type": "code",
   "execution_count": 175,
   "metadata": {},
   "outputs": [
    {
     "data": {
      "text/plain": [
       "19949408.0"
      ]
     },
     "execution_count": 175,
     "metadata": {},
     "output_type": "execute_result"
    }
   ],
   "source": [
    "seekers_clean.total_pending_endyear.sum()"
   ]
  },
  {
   "cell_type": "code",
   "execution_count": 176,
   "metadata": {},
   "outputs": [
    {
     "data": {
      "text/plain": [
       "18624397.0"
      ]
     },
     "execution_count": 176,
     "metadata": {},
     "output_type": "execute_result"
    }
   ],
   "source": [
    "seekers_clean.applied_during_year.sum()"
   ]
  },
  {
   "cell_type": "markdown",
   "metadata": {},
   "source": [
    "There is a total number of entries of:"
   ]
  },
  {
   "cell_type": "code",
   "execution_count": 177,
   "metadata": {},
   "outputs": [
    {
     "data": {
      "text/plain": [
       "129720"
      ]
     },
     "execution_count": 177,
     "metadata": {},
     "output_type": "execute_result"
    }
   ],
   "source": [
    "len(seekers_clean)"
   ]
  },
  {
   "cell_type": "markdown",
   "metadata": {},
   "source": [
    "Excluding rows where one of the three entries `total_pending_endyear` and `total_pending_startyear` ,`applied_during_year` is empty removes less then 1 Million refugees. Thus we can proceed doing so."
   ]
  },
  {
   "cell_type": "code",
   "execution_count": 178,
   "metadata": {
    "collapsed": true
   },
   "outputs": [],
   "source": [
    "seekers_clean = seekers_clean[seekers_clean.applied_during_year.notnull()]\n",
    "\n",
    "seekers_clean = seekers_clean[seekers_clean.total_pending_endyear.notnull()]\n",
    "\n",
    "seekers_clean = seekers_clean[seekers_clean.total_pending_startyear.notnull()]"
   ]
  },
  {
   "cell_type": "code",
   "execution_count": 179,
   "metadata": {},
   "outputs": [
    {
     "data": {
      "text/plain": [
       "121428"
      ]
     },
     "execution_count": 179,
     "metadata": {},
     "output_type": "execute_result"
    }
   ],
   "source": [
    "len(seekers_clean)"
   ]
  },
  {
   "cell_type": "markdown",
   "metadata": {},
   "source": [
    "We delete entries where the amount of refugees `total_pending_startyear` + `applied_during_year` is not positive."
   ]
  },
  {
   "cell_type": "code",
   "execution_count": 180,
   "metadata": {
    "collapsed": true
   },
   "outputs": [],
   "source": [
    "seekers_clean = seekers_clean.query('applied_during_year + total_pending_startyear>0')"
   ]
  },
  {
   "cell_type": "code",
   "execution_count": 181,
   "metadata": {},
   "outputs": [
    {
     "data": {
      "text/plain": [
       "113293"
      ]
     },
     "execution_count": 181,
     "metadata": {},
     "output_type": "execute_result"
    }
   ],
   "source": [
    "len(seekers_clean)"
   ]
  },
  {
   "cell_type": "markdown",
   "metadata": {},
   "source": [
    "We calculate the acceptance ratio"
   ]
  },
  {
   "cell_type": "code",
   "execution_count": 182,
   "metadata": {
    "collapsed": true
   },
   "outputs": [],
   "source": [
    "acceptance = 1 - seekers_clean['total_pending_endyear'] /(seekers_clean['applied_during_year'] + seekers_clean['total_pending_startyear'])"
   ]
  },
  {
   "cell_type": "markdown",
   "metadata": {},
   "source": [
    "We convert values that are below zero to zero and values that are above 1 to 1."
   ]
  },
  {
   "cell_type": "code",
   "execution_count": 183,
   "metadata": {
    "collapsed": true
   },
   "outputs": [],
   "source": [
    "acceptance = acceptance*(acceptance >=0)\n",
    "\n",
    "acceptance[acceptance == 2] = 1"
   ]
  },
  {
   "cell_type": "code",
   "execution_count": 184,
   "metadata": {},
   "outputs": [
    {
     "data": {
      "text/plain": [
       "<matplotlib.axes._subplots.AxesSubplot at 0x8b24208>"
      ]
     },
     "execution_count": 184,
     "metadata": {},
     "output_type": "execute_result"
    },
    {
     "data": {
      "image/png": "[encoded data removed]",
      "text/plain": [
       "<matplotlib.figure.Figure at 0x8b27748>"
      ]
     },
     "metadata": {},
     "output_type": "display_data"
    }
   ],
   "source": [
    "acceptance.hist()"
   ]
  },
  {
   "cell_type": "code",
   "execution_count": 185,
   "metadata": {
    "collapsed": true
   },
   "outputs": [],
   "source": [
    "seekers_clean['acceptance_rate'] = acceptance"
   ]
  },
  {
   "cell_type": "code",
   "execution_count": 186,
   "metadata": {},
   "outputs": [
    {
     "data": {
      "text/plain": [
       "113293"
      ]
     },
     "execution_count": 186,
     "metadata": {},
     "output_type": "execute_result"
    }
   ],
   "source": [
    "len(seekers_clean)"
   ]
  },
  {
   "cell_type": "markdown",
   "metadata": {},
   "source": [
    "## We want to add a continent column"
   ]
  },
  {
   "cell_type": "markdown",
   "metadata": {},
   "source": [
    "We download a continents table from the web"
   ]
  },
  {
   "cell_type": "code",
   "execution_count": 187,
   "metadata": {},
   "outputs": [
    {
     "data": {
      "text/html": [
       "<div>\n",
       "<style>\n",
       "    .dataframe thead tr:only-child th {\n",
       "        text-align: right;\n",
       "    }\n",
       "\n",
       "    .dataframe thead th {\n",
       "        text-align: left;\n",
       "    }\n",
       "\n",
       "    .dataframe tbody tr th {\n",
       "        vertical-align: top;\n",
       "    }\n",
       "</style>\n",
       "<table border=\"1\" class=\"dataframe\">\n",
       "  <thead>\n",
       "    <tr style=\"text-align: right;\">\n",
       "      <th></th>\n",
       "      <th>continent</th>\n",
       "      <th>country</th>\n",
       "    </tr>\n",
       "  </thead>\n",
       "  <tbody>\n",
       "    <tr>\n",
       "      <th>24</th>\n",
       "      <td>Africa</td>\n",
       "      <td>Kenya</td>\n",
       "    </tr>\n",
       "    <tr>\n",
       "      <th>50</th>\n",
       "      <td>Africa</td>\n",
       "      <td>Tunisia</td>\n",
       "    </tr>\n",
       "    <tr>\n",
       "      <th>191</th>\n",
       "      <td>South America</td>\n",
       "      <td>Suriname</td>\n",
       "    </tr>\n",
       "  </tbody>\n",
       "</table>\n",
       "</div>"
      ],
      "text/plain": [
       "         continent   country\n",
       "24          Africa     Kenya\n",
       "50          Africa   Tunisia\n",
       "191  South America  Suriname"
      ]
     },
     "execution_count": 187,
     "metadata": {},
     "output_type": "execute_result"
    }
   ],
   "source": [
    "continents = pd.read_csv('https://commondatastorage.googleapis.com/ckannet-storage/2012-07-26T090250/Countries-Continents-csv.csv')\n",
    "\n",
    "continents.columns = continents.columns.str.lower()\n",
    "\n",
    "continents = continents[['continent' , 'country']]\n",
    "\n",
    "continents.sample(3)"
   ]
  },
  {
   "cell_type": "markdown",
   "metadata": {},
   "source": [
    "### Seekers data"
   ]
  },
  {
   "cell_type": "code",
   "execution_count": 188,
   "metadata": {
    "collapsed": true
   },
   "outputs": [],
   "source": [
    "seekers_clean = seekers_clean.merge(continents , how = 'left' , left_on = 'country_of_origin' , right_on = 'country')\n",
    "\n",
    "missing_continents_countries = seekers_clean[seekers_clean.continent.isnull()].country_of_origin.unique()\n",
    "\n",
    "continents.continent.value_counts()\n",
    "\n",
    "missing_continents_countries = list(missing_continents_countries)\n",
    "\n",
    "africa = ['United Rep. of Tanzania' , 'Timor-Leste' , \"Lao People's Dem. Rep.\" , 'Burkina Faso' , 'Central African Rep.' , \"Côte d'Ivoire\" , 'Dem. Rep. of the Congo' , 'Cabo Verde' , 'Western Sahara' , 'Gibraltar']\n",
    "\n",
    "south_america = ['Puerto Rico' , 'Venezuela (Bolivarian Republic of)' , 'Bolivia (Plurinational State of)' , 'Dominican Rep.']\n",
    "\n",
    "asia = ['Tibetan' , 'Viet Nam' , \"Dem. People's Rep. of Korea\" , 'Myanmar' , 'Brunei Darussalam' , 'China, Hong Kong SAR' ,  'Rep. of Korea' , 'China, Macao SAR']\n",
    "\n",
    "europe = ['Serbia and Kosovo (S/RES/1244 (1999))' , 'Czech Rep.' , 'Rep. of Moldova' , 'The former Yugoslav Republic of Macedonia']\n",
    "\n",
    "middle_east = ['Syrian Arab Rep.' , 'Palestinian' , 'Iran (Islamic Rep. of)' ,]\n",
    "\n",
    "north_america = ['Cayman Islands' , 'Bermuda' , 'United States of America' , ]\n",
    "\n",
    "stateless = ['Stateless' ]\n",
    "\n",
    "unimportant_or_unknown = ['Bonaire', 'Sint Maarten (Dutch part)', 'Montserrat' , 'Micronesia (Federated States of)', 'Niue',\n",
    "       'Turks and Caicos Islands', 'French Polynesia', 'Holy See (the)',\n",
    "       'New Caledonia', 'French Guiana' , 'Various/Unknown' , 'Aruba','Cook Islands','British Virgin Islands','Curaçao','Guadeloupe','Wallis and Futuna Islands ','Svalbard and Jan Mayen','Saint-Pierre-et-Miquelon']"
   ]
  },
  {
   "cell_type": "code",
   "execution_count": 189,
   "metadata": {},
   "outputs": [
    {
     "data": {
      "text/html": [
       "<div>\n",
       "<style>\n",
       "    .dataframe thead tr:only-child th {\n",
       "        text-align: right;\n",
       "    }\n",
       "\n",
       "    .dataframe thead th {\n",
       "        text-align: left;\n",
       "    }\n",
       "\n",
       "    .dataframe tbody tr th {\n",
       "        vertical-align: top;\n",
       "    }\n",
       "</style>\n",
       "<table border=\"1\" class=\"dataframe\">\n",
       "  <thead>\n",
       "    <tr style=\"text-align: right;\">\n",
       "      <th></th>\n",
       "      <th>year</th>\n",
       "      <th>country_giving_asylum</th>\n",
       "      <th>country_of_origin</th>\n",
       "      <th>rsd_type</th>\n",
       "      <th>total_pending_startyear</th>\n",
       "      <th>unhcrassisted_startyear</th>\n",
       "      <th>applied_during_year</th>\n",
       "      <th>decisions_recognized</th>\n",
       "      <th>decisions_other</th>\n",
       "      <th>rejected</th>\n",
       "      <th>otherwise_closed</th>\n",
       "      <th>total_decisions</th>\n",
       "      <th>total_pending_endyear</th>\n",
       "      <th>unhcrassisted_endyear</th>\n",
       "      <th>acceptance_rate</th>\n",
       "      <th>continent</th>\n",
       "      <th>country</th>\n",
       "    </tr>\n",
       "  </thead>\n",
       "  <tbody>\n",
       "    <tr>\n",
       "      <th>18689</th>\n",
       "      <td>2003</td>\n",
       "      <td>Egypt</td>\n",
       "      <td>Nigeria</td>\n",
       "      <td>U / FI</td>\n",
       "      <td>7.0</td>\n",
       "      <td>0.0</td>\n",
       "      <td>2.0</td>\n",
       "      <td>0.0</td>\n",
       "      <td>0.0</td>\n",
       "      <td>0.0</td>\n",
       "      <td>0.0</td>\n",
       "      <td>NaN</td>\n",
       "      <td>9.0</td>\n",
       "      <td>0.0</td>\n",
       "      <td>0.0</td>\n",
       "      <td>Africa</td>\n",
       "      <td>Nigeria</td>\n",
       "    </tr>\n",
       "    <tr>\n",
       "      <th>47246</th>\n",
       "      <td>2008</td>\n",
       "      <td>Sweden</td>\n",
       "      <td>Brazil</td>\n",
       "      <td>G / FI</td>\n",
       "      <td>1.0</td>\n",
       "      <td>0.0</td>\n",
       "      <td>3.0</td>\n",
       "      <td>0.0</td>\n",
       "      <td>0.0</td>\n",
       "      <td>2.0</td>\n",
       "      <td>0.0</td>\n",
       "      <td>2.0</td>\n",
       "      <td>2.0</td>\n",
       "      <td>0.0</td>\n",
       "      <td>0.5</td>\n",
       "      <td>South America</td>\n",
       "      <td>Brazil</td>\n",
       "    </tr>\n",
       "    <tr>\n",
       "      <th>39568</th>\n",
       "      <td>2006</td>\n",
       "      <td>Ireland</td>\n",
       "      <td>Viet Nam</td>\n",
       "      <td>G / AR</td>\n",
       "      <td>0.0</td>\n",
       "      <td>0.0</td>\n",
       "      <td>5.0</td>\n",
       "      <td>0.0</td>\n",
       "      <td>0.0</td>\n",
       "      <td>3.0</td>\n",
       "      <td>0.0</td>\n",
       "      <td>3.0</td>\n",
       "      <td>2.0</td>\n",
       "      <td>0.0</td>\n",
       "      <td>0.6</td>\n",
       "      <td>NaN</td>\n",
       "      <td>NaN</td>\n",
       "    </tr>\n",
       "    <tr>\n",
       "      <th>49980</th>\n",
       "      <td>2008</td>\n",
       "      <td>United Kingdom</td>\n",
       "      <td>Liberia</td>\n",
       "      <td>G / FI</td>\n",
       "      <td>0.0</td>\n",
       "      <td>0.0</td>\n",
       "      <td>20.0</td>\n",
       "      <td>0.0</td>\n",
       "      <td>3.0</td>\n",
       "      <td>12.0</td>\n",
       "      <td>11.0</td>\n",
       "      <td>26.0</td>\n",
       "      <td>0.0</td>\n",
       "      <td>0.0</td>\n",
       "      <td>1.0</td>\n",
       "      <td>Africa</td>\n",
       "      <td>Liberia</td>\n",
       "    </tr>\n",
       "    <tr>\n",
       "      <th>52971</th>\n",
       "      <td>2008</td>\n",
       "      <td>Thailand</td>\n",
       "      <td>Viet Nam</td>\n",
       "      <td>U / RA</td>\n",
       "      <td>3.0</td>\n",
       "      <td>3.0</td>\n",
       "      <td>1.0</td>\n",
       "      <td>0.0</td>\n",
       "      <td>0.0</td>\n",
       "      <td>3.0</td>\n",
       "      <td>1.0</td>\n",
       "      <td>4.0</td>\n",
       "      <td>0.0</td>\n",
       "      <td>0.0</td>\n",
       "      <td>1.0</td>\n",
       "      <td>NaN</td>\n",
       "      <td>NaN</td>\n",
       "    </tr>\n",
       "  </tbody>\n",
       "</table>\n",
       "</div>"
      ],
      "text/plain": [
       "       year country_giving_asylum country_of_origin rsd_type  \\\n",
       "18689  2003                 Egypt           Nigeria   U / FI   \n",
       "47246  2008                Sweden            Brazil   G / FI   \n",
       "39568  2006               Ireland          Viet Nam   G / AR   \n",
       "49980  2008        United Kingdom           Liberia   G / FI   \n",
       "52971  2008              Thailand          Viet Nam   U / RA   \n",
       "\n",
       "       total_pending_startyear  unhcrassisted_startyear  applied_during_year  \\\n",
       "18689                      7.0                      0.0                  2.0   \n",
       "47246                      1.0                      0.0                  3.0   \n",
       "39568                      0.0                      0.0                  5.0   \n",
       "49980                      0.0                      0.0                 20.0   \n",
       "52971                      3.0                      3.0                  1.0   \n",
       "\n",
       "       decisions_recognized  decisions_other  rejected  otherwise_closed  \\\n",
       "18689                   0.0              0.0       0.0               0.0   \n",
       "47246                   0.0              0.0       2.0               0.0   \n",
       "39568                   0.0              0.0       3.0               0.0   \n",
       "49980                   0.0              3.0      12.0              11.0   \n",
       "52971                   0.0              0.0       3.0               1.0   \n",
       "\n",
       "       total_decisions  total_pending_endyear  unhcrassisted_endyear  \\\n",
       "18689              NaN                    9.0                    0.0   \n",
       "47246              2.0                    2.0                    0.0   \n",
       "39568              3.0                    2.0                    0.0   \n",
       "49980             26.0                    0.0                    0.0   \n",
       "52971              4.0                    0.0                    0.0   \n",
       "\n",
       "       acceptance_rate      continent  country  \n",
       "18689              0.0         Africa  Nigeria  \n",
       "47246              0.5  South America   Brazil  \n",
       "39568              0.6            NaN      NaN  \n",
       "49980              1.0         Africa  Liberia  \n",
       "52971              1.0            NaN      NaN  "
      ]
     },
     "execution_count": 189,
     "metadata": {},
     "output_type": "execute_result"
    }
   ],
   "source": [
    "\n",
    "\n",
    "seekers_clean.sample(5)"
   ]
  },
  {
   "cell_type": "code",
   "execution_count": 190,
   "metadata": {},
   "outputs": [
    {
     "name": "stderr",
     "output_type": "stream",
     "text": [
      "C:\\Users\\User\\Anaconda3\\envs\\py3\\lib\\site-packages\\ipykernel_launcher.py:3: SettingWithCopyWarning: \n",
      "A value is trying to be set on a copy of a slice from a DataFrame\n",
      "\n",
      "See the caveats in the documentation: http://pandas.pydata.org/pandas-docs/stable/indexing.html#indexing-view-versus-copy\n",
      "  This is separate from the ipykernel package so we can avoid doing imports until\n"
     ]
    },
    {
     "name": "stdout",
     "output_type": "stream",
     "text": [
      "0.0\n",
      "0.0\n",
      "0.0\n",
      "0.0\n",
      "0.0\n",
      "0.0\n",
      "0.0\n",
      "0.0\n"
     ]
    }
   ],
   "source": [
    "names = ['Asia' , 'South America' , 'North America' , 'Africa' , 'Europe' , 'Middle East' , 'Stateless' , 'Various/Unknown']\n",
    "for index ,region_name in enumerate([asia , south_america , north_america , africa , europe , middle_east , stateless , unimportant_or_unknown]):\n",
    "    seekers_clean['continent'][np.array([x in region_name for x in seekers_clean['country_of_origin']])] = names[index]\n",
    "    print(seekers_clean['continent'][np.array([x in region_name for x in seekers_clean['country_of_origin']])].isnull().mean())\n",
    "    "
   ]
  },
  {
   "cell_type": "code",
   "execution_count": 191,
   "metadata": {},
   "outputs": [
    {
     "data": {
      "text/html": [
       "<div>\n",
       "<style>\n",
       "    .dataframe thead tr:only-child th {\n",
       "        text-align: right;\n",
       "    }\n",
       "\n",
       "    .dataframe thead th {\n",
       "        text-align: left;\n",
       "    }\n",
       "\n",
       "    .dataframe tbody tr th {\n",
       "        vertical-align: top;\n",
       "    }\n",
       "</style>\n",
       "<table border=\"1\" class=\"dataframe\">\n",
       "  <thead>\n",
       "    <tr style=\"text-align: right;\">\n",
       "      <th></th>\n",
       "      <th>year</th>\n",
       "      <th>country_giving_asylum</th>\n",
       "      <th>country_of_origin</th>\n",
       "      <th>rsd_type</th>\n",
       "      <th>total_pending_startyear</th>\n",
       "      <th>unhcrassisted_startyear</th>\n",
       "      <th>applied_during_year</th>\n",
       "      <th>decisions_recognized</th>\n",
       "      <th>decisions_other</th>\n",
       "      <th>rejected</th>\n",
       "      <th>otherwise_closed</th>\n",
       "      <th>total_decisions</th>\n",
       "      <th>total_pending_endyear</th>\n",
       "      <th>unhcrassisted_endyear</th>\n",
       "      <th>acceptance_rate</th>\n",
       "      <th>continent</th>\n",
       "      <th>country</th>\n",
       "    </tr>\n",
       "  </thead>\n",
       "  <tbody>\n",
       "  </tbody>\n",
       "</table>\n",
       "</div>"
      ],
      "text/plain": [
       "Empty DataFrame\n",
       "Columns: [year, country_giving_asylum, country_of_origin, rsd_type, total_pending_startyear, unhcrassisted_startyear, applied_during_year, decisions_recognized, decisions_other, rejected, otherwise_closed, total_decisions, total_pending_endyear, unhcrassisted_endyear, acceptance_rate, continent, country]\n",
       "Index: []"
      ]
     },
     "execution_count": 191,
     "metadata": {},
     "output_type": "execute_result"
    }
   ],
   "source": [
    "seekers_clean[seekers_clean['continent'].isnull()]"
   ]
  },
  {
   "cell_type": "code",
   "execution_count": 192,
   "metadata": {
    "collapsed": true
   },
   "outputs": [],
   "source": [
    "seekers_clean['continent_of_origin'] = seekers_clean.continent \n",
    "\n",
    "del seekers_clean['continent']\n",
    "\n",
    "del seekers_clean['country']"
   ]
  },
  {
   "cell_type": "code",
   "execution_count": 193,
   "metadata": {
    "collapsed": true
   },
   "outputs": [],
   "source": [
    "seekers_clean = seekers_clean.merge(continents , how = 'left' , left_on = 'country_giving_asylum' , right_on = 'country')"
   ]
  },
  {
   "cell_type": "code",
   "execution_count": 194,
   "metadata": {
    "collapsed": true
   },
   "outputs": [],
   "source": [
    "missing_continents_countries = seekers_clean[seekers_clean.continent.isnull()].country_giving_asylum.unique()"
   ]
  },
  {
   "cell_type": "code",
   "execution_count": 195,
   "metadata": {},
   "outputs": [
    {
     "data": {
      "text/plain": [
       "Africa           54\n",
       "Europe           47\n",
       "Asia             44\n",
       "North America    23\n",
       "Oceania          14\n",
       "South America    12\n",
       "Name: continent, dtype: int64"
      ]
     },
     "execution_count": 195,
     "metadata": {},
     "output_type": "execute_result"
    }
   ],
   "source": [
    "continents.continent.value_counts()"
   ]
  },
  {
   "cell_type": "code",
   "execution_count": 196,
   "metadata": {
    "collapsed": true
   },
   "outputs": [],
   "source": [
    "missing_continents_countries = list(missing_continents_countries)"
   ]
  },
  {
   "cell_type": "code",
   "execution_count": 197,
   "metadata": {},
   "outputs": [
    {
     "name": "stderr",
     "output_type": "stream",
     "text": [
      "C:\\Users\\User\\Anaconda3\\envs\\py3\\lib\\site-packages\\ipykernel_launcher.py:3: SettingWithCopyWarning: \n",
      "A value is trying to be set on a copy of a slice from a DataFrame\n",
      "\n",
      "See the caveats in the documentation: http://pandas.pydata.org/pandas-docs/stable/indexing.html#indexing-view-versus-copy\n",
      "  This is separate from the ipykernel package so we can avoid doing imports until\n"
     ]
    },
    {
     "name": "stdout",
     "output_type": "stream",
     "text": [
      "0.0\n",
      "0.0\n",
      "0.0\n",
      "0.0\n",
      "0.0\n",
      "0.0\n",
      "nan\n",
      "0.0\n"
     ]
    }
   ],
   "source": [
    "names = ['Asia' , 'South America' , 'North America' , 'Africa' , 'Europe' , 'Middle East' , 'Stateless' , 'Various/Unknown']\n",
    "for index ,region_name in enumerate([asia , south_america , north_america , africa , europe , middle_east , stateless , unimportant_or_unknown]):\n",
    "    seekers_clean['continent'][np.array([x in region_name for x in seekers_clean['country_giving_asylum']])] = names[index]\n",
    "    print(seekers_clean['continent'][np.array([x in region_name for x in seekers_clean['country_giving_asylum']])].isnull().mean())\n",
    "    "
   ]
  },
  {
   "cell_type": "code",
   "execution_count": 198,
   "metadata": {
    "collapsed": true
   },
   "outputs": [],
   "source": [
    "seekers_clean['continent_asylum'] =seekers_clean.continent\n",
    "\n",
    "del seekers_clean['continent']\n",
    "del seekers_clean['country']"
   ]
  },
  {
   "cell_type": "code",
   "execution_count": 199,
   "metadata": {},
   "outputs": [
    {
     "data": {
      "text/plain": [
       "0"
      ]
     },
     "execution_count": 199,
     "metadata": {},
     "output_type": "execute_result"
    }
   ],
   "source": [
    "seekers_clean['continent_asylum'].isnull().sum()"
   ]
  },
  {
   "cell_type": "code",
   "execution_count": 200,
   "metadata": {},
   "outputs": [
    {
     "data": {
      "text/html": [
       "<div>\n",
       "<style>\n",
       "    .dataframe thead tr:only-child th {\n",
       "        text-align: right;\n",
       "    }\n",
       "\n",
       "    .dataframe thead th {\n",
       "        text-align: left;\n",
       "    }\n",
       "\n",
       "    .dataframe tbody tr th {\n",
       "        vertical-align: top;\n",
       "    }\n",
       "</style>\n",
       "<table border=\"1\" class=\"dataframe\">\n",
       "  <thead>\n",
       "    <tr style=\"text-align: right;\">\n",
       "      <th></th>\n",
       "      <th>year</th>\n",
       "      <th>country_giving_asylum</th>\n",
       "      <th>country_of_origin</th>\n",
       "      <th>rsd_type</th>\n",
       "      <th>total_pending_startyear</th>\n",
       "      <th>unhcrassisted_startyear</th>\n",
       "      <th>applied_during_year</th>\n",
       "      <th>decisions_recognized</th>\n",
       "      <th>decisions_other</th>\n",
       "      <th>rejected</th>\n",
       "      <th>otherwise_closed</th>\n",
       "      <th>total_decisions</th>\n",
       "      <th>total_pending_endyear</th>\n",
       "      <th>unhcrassisted_endyear</th>\n",
       "      <th>acceptance_rate</th>\n",
       "      <th>continent_of_origin</th>\n",
       "      <th>continent_asylum</th>\n",
       "    </tr>\n",
       "  </thead>\n",
       "  <tbody>\n",
       "    <tr>\n",
       "      <th>42810</th>\n",
       "      <td>2007</td>\n",
       "      <td>Denmark</td>\n",
       "      <td>Israel</td>\n",
       "      <td>G / FI</td>\n",
       "      <td>0.0</td>\n",
       "      <td>0.0</td>\n",
       "      <td>2.0</td>\n",
       "      <td>0.0</td>\n",
       "      <td>0.0</td>\n",
       "      <td>1.0</td>\n",
       "      <td>0.0</td>\n",
       "      <td>1.0</td>\n",
       "      <td>0.0</td>\n",
       "      <td>0.0</td>\n",
       "      <td>1.000</td>\n",
       "      <td>Asia</td>\n",
       "      <td>Europe</td>\n",
       "    </tr>\n",
       "    <tr>\n",
       "      <th>91052</th>\n",
       "      <td>2013</td>\n",
       "      <td>Uruguay</td>\n",
       "      <td>El Salvador</td>\n",
       "      <td>G / FI</td>\n",
       "      <td>3.0</td>\n",
       "      <td>1.0</td>\n",
       "      <td>2.0</td>\n",
       "      <td>0.0</td>\n",
       "      <td>0.0</td>\n",
       "      <td>0.0</td>\n",
       "      <td>1.0</td>\n",
       "      <td>1.0</td>\n",
       "      <td>4.0</td>\n",
       "      <td>2.0</td>\n",
       "      <td>0.200</td>\n",
       "      <td>North America</td>\n",
       "      <td>South America</td>\n",
       "    </tr>\n",
       "    <tr>\n",
       "      <th>98638</th>\n",
       "      <td>2014</td>\n",
       "      <td>Denmark</td>\n",
       "      <td>Mauritania</td>\n",
       "      <td>G / FI</td>\n",
       "      <td>1.0</td>\n",
       "      <td>0.0</td>\n",
       "      <td>3.0</td>\n",
       "      <td>0.0</td>\n",
       "      <td>0.0</td>\n",
       "      <td>1.0</td>\n",
       "      <td>0.0</td>\n",
       "      <td>1.0</td>\n",
       "      <td>0.0</td>\n",
       "      <td>0.0</td>\n",
       "      <td>1.000</td>\n",
       "      <td>Africa</td>\n",
       "      <td>Europe</td>\n",
       "    </tr>\n",
       "    <tr>\n",
       "      <th>86917</th>\n",
       "      <td>2013</td>\n",
       "      <td>Denmark</td>\n",
       "      <td>Georgia</td>\n",
       "      <td>G / AR</td>\n",
       "      <td>7.0</td>\n",
       "      <td>0.0</td>\n",
       "      <td>17.0</td>\n",
       "      <td>0.0</td>\n",
       "      <td>0.0</td>\n",
       "      <td>10.0</td>\n",
       "      <td>0.0</td>\n",
       "      <td>10.0</td>\n",
       "      <td>9.0</td>\n",
       "      <td>0.0</td>\n",
       "      <td>0.625</td>\n",
       "      <td>Europe</td>\n",
       "      <td>Europe</td>\n",
       "    </tr>\n",
       "    <tr>\n",
       "      <th>113042</th>\n",
       "      <td>2016</td>\n",
       "      <td>Ukraine</td>\n",
       "      <td>Uzbekistan</td>\n",
       "      <td>G / FI</td>\n",
       "      <td>24.0</td>\n",
       "      <td>24.0</td>\n",
       "      <td>36.0</td>\n",
       "      <td>0.0</td>\n",
       "      <td>0.0</td>\n",
       "      <td>19.0</td>\n",
       "      <td>10.0</td>\n",
       "      <td>30.0</td>\n",
       "      <td>30.0</td>\n",
       "      <td>30.0</td>\n",
       "      <td>0.500</td>\n",
       "      <td>Asia</td>\n",
       "      <td>Europe</td>\n",
       "    </tr>\n",
       "  </tbody>\n",
       "</table>\n",
       "</div>"
      ],
      "text/plain": [
       "        year country_giving_asylum country_of_origin rsd_type  \\\n",
       "42810   2007               Denmark            Israel   G / FI   \n",
       "91052   2013               Uruguay       El Salvador   G / FI   \n",
       "98638   2014               Denmark        Mauritania   G / FI   \n",
       "86917   2013               Denmark           Georgia   G / AR   \n",
       "113042  2016               Ukraine        Uzbekistan   G / FI   \n",
       "\n",
       "        total_pending_startyear  unhcrassisted_startyear  applied_during_year  \\\n",
       "42810                       0.0                      0.0                  2.0   \n",
       "91052                       3.0                      1.0                  2.0   \n",
       "98638                       1.0                      0.0                  3.0   \n",
       "86917                       7.0                      0.0                 17.0   \n",
       "113042                     24.0                     24.0                 36.0   \n",
       "\n",
       "        decisions_recognized  decisions_other  rejected  otherwise_closed  \\\n",
       "42810                    0.0              0.0       1.0               0.0   \n",
       "91052                    0.0              0.0       0.0               1.0   \n",
       "98638                    0.0              0.0       1.0               0.0   \n",
       "86917                    0.0              0.0      10.0               0.0   \n",
       "113042                   0.0              0.0      19.0              10.0   \n",
       "\n",
       "        total_decisions  total_pending_endyear  unhcrassisted_endyear  \\\n",
       "42810               1.0                    0.0                    0.0   \n",
       "91052               1.0                    4.0                    2.0   \n",
       "98638               1.0                    0.0                    0.0   \n",
       "86917              10.0                    9.0                    0.0   \n",
       "113042             30.0                   30.0                   30.0   \n",
       "\n",
       "        acceptance_rate continent_of_origin continent_asylum  \n",
       "42810             1.000                Asia           Europe  \n",
       "91052             0.200       North America    South America  \n",
       "98638             1.000              Africa           Europe  \n",
       "86917             0.625              Europe           Europe  \n",
       "113042            0.500                Asia           Europe  "
      ]
     },
     "execution_count": 200,
     "metadata": {},
     "output_type": "execute_result"
    }
   ],
   "source": [
    "seekers_clean.sample(5)"
   ]
  },
  {
   "cell_type": "markdown",
   "metadata": {},
   "source": [
    "### Time Series Data"
   ]
  },
  {
   "cell_type": "code",
   "execution_count": 201,
   "metadata": {
    "collapsed": true
   },
   "outputs": [],
   "source": [
    "time_series_clean['value'] = pd.to_numeric(time_series_clean['value'] , errors='ignore' , downcast = 'integer')"
   ]
  },
  {
   "cell_type": "code",
   "execution_count": 202,
   "metadata": {},
   "outputs": [
    {
     "data": {
      "text/html": [
       "<div>\n",
       "<style>\n",
       "    .dataframe thead tr:only-child th {\n",
       "        text-align: right;\n",
       "    }\n",
       "\n",
       "    .dataframe thead th {\n",
       "        text-align: left;\n",
       "    }\n",
       "\n",
       "    .dataframe tbody tr th {\n",
       "        vertical-align: top;\n",
       "    }\n",
       "</style>\n",
       "<table border=\"1\" class=\"dataframe\">\n",
       "  <thead>\n",
       "    <tr style=\"text-align: right;\">\n",
       "      <th></th>\n",
       "      <th>year</th>\n",
       "      <th>country_giving_asylum</th>\n",
       "      <th>country_of_origin</th>\n",
       "      <th>population_type</th>\n",
       "      <th>value</th>\n",
       "    </tr>\n",
       "  </thead>\n",
       "  <tbody>\n",
       "    <tr>\n",
       "      <th>100408</th>\n",
       "      <td>2009</td>\n",
       "      <td>Mali</td>\n",
       "      <td>Burundi</td>\n",
       "      <td>Refugees (incl. refugee-like situations)</td>\n",
       "      <td>51</td>\n",
       "    </tr>\n",
       "    <tr>\n",
       "      <th>54508</th>\n",
       "      <td>2004</td>\n",
       "      <td>Iceland</td>\n",
       "      <td>Lebanon</td>\n",
       "      <td>Refugees (incl. refugee-like situations)</td>\n",
       "      <td>1</td>\n",
       "    </tr>\n",
       "    <tr>\n",
       "      <th>225778</th>\n",
       "      <td>2015</td>\n",
       "      <td>Ireland</td>\n",
       "      <td>Ecuador</td>\n",
       "      <td>Refugees (incl. refugee-like situations)</td>\n",
       "      <td>1</td>\n",
       "    </tr>\n",
       "    <tr>\n",
       "      <th>281337</th>\n",
       "      <td>2016</td>\n",
       "      <td>Mali</td>\n",
       "      <td>Burundi</td>\n",
       "      <td>Refugees (incl. refugee-like situations)</td>\n",
       "      <td>8</td>\n",
       "    </tr>\n",
       "    <tr>\n",
       "      <th>213026</th>\n",
       "      <td>2015</td>\n",
       "      <td>Costa Rica</td>\n",
       "      <td>Egypt</td>\n",
       "      <td>Stateless</td>\n",
       "      <td>0</td>\n",
       "    </tr>\n",
       "  </tbody>\n",
       "</table>\n",
       "</div>"
      ],
      "text/plain": [
       "        year country_giving_asylum country_of_origin  \\\n",
       "100408  2009                  Mali           Burundi   \n",
       "54508   2004               Iceland           Lebanon   \n",
       "225778  2015               Ireland           Ecuador   \n",
       "281337  2016                  Mali           Burundi   \n",
       "213026  2015            Costa Rica             Egypt   \n",
       "\n",
       "                                 population_type  value  \n",
       "100408  Refugees (incl. refugee-like situations)     51  \n",
       "54508   Refugees (incl. refugee-like situations)      1  \n",
       "225778  Refugees (incl. refugee-like situations)      1  \n",
       "281337  Refugees (incl. refugee-like situations)      8  \n",
       "213026                                 Stateless      0  "
      ]
     },
     "execution_count": 202,
     "metadata": {},
     "output_type": "execute_result"
    }
   ],
   "source": [
    "time_series_clean.sample(5)"
   ]
  },
  {
   "cell_type": "code",
   "execution_count": 203,
   "metadata": {},
   "outputs": [
    {
     "data": {
      "text/html": [
       "<div>\n",
       "<style>\n",
       "    .dataframe thead tr:only-child th {\n",
       "        text-align: right;\n",
       "    }\n",
       "\n",
       "    .dataframe thead th {\n",
       "        text-align: left;\n",
       "    }\n",
       "\n",
       "    .dataframe tbody tr th {\n",
       "        vertical-align: top;\n",
       "    }\n",
       "</style>\n",
       "<table border=\"1\" class=\"dataframe\">\n",
       "  <thead>\n",
       "    <tr style=\"text-align: right;\">\n",
       "      <th></th>\n",
       "      <th>year</th>\n",
       "      <th>country_giving_asylum</th>\n",
       "      <th>country_of_origin</th>\n",
       "      <th>rsd_type</th>\n",
       "      <th>total_pending_startyear</th>\n",
       "      <th>unhcrassisted_startyear</th>\n",
       "      <th>applied_during_year</th>\n",
       "      <th>decisions_recognized</th>\n",
       "      <th>decisions_other</th>\n",
       "      <th>rejected</th>\n",
       "      <th>otherwise_closed</th>\n",
       "      <th>total_decisions</th>\n",
       "      <th>total_pending_endyear</th>\n",
       "      <th>unhcrassisted_endyear</th>\n",
       "      <th>acceptance_rate</th>\n",
       "      <th>continent_of_origin</th>\n",
       "      <th>continent_asylum</th>\n",
       "    </tr>\n",
       "  </thead>\n",
       "  <tbody>\n",
       "    <tr>\n",
       "      <th>0</th>\n",
       "      <td>2000</td>\n",
       "      <td>Zimbabwe</td>\n",
       "      <td>Afghanistan</td>\n",
       "      <td>G / FI</td>\n",
       "      <td>0.0</td>\n",
       "      <td>0.0</td>\n",
       "      <td>5.0</td>\n",
       "      <td>5.0</td>\n",
       "      <td>0.0</td>\n",
       "      <td>0.0</td>\n",
       "      <td>0.0</td>\n",
       "      <td>5.0</td>\n",
       "      <td>0.0</td>\n",
       "      <td>0.0</td>\n",
       "      <td>1.0</td>\n",
       "      <td>Asia</td>\n",
       "      <td>Africa</td>\n",
       "    </tr>\n",
       "  </tbody>\n",
       "</table>\n",
       "</div>"
      ],
      "text/plain": [
       "   year country_giving_asylum country_of_origin rsd_type  \\\n",
       "0  2000              Zimbabwe       Afghanistan   G / FI   \n",
       "\n",
       "   total_pending_startyear  unhcrassisted_startyear  applied_during_year  \\\n",
       "0                      0.0                      0.0                  5.0   \n",
       "\n",
       "   decisions_recognized  decisions_other  rejected  otherwise_closed  \\\n",
       "0                   5.0              0.0       0.0               0.0   \n",
       "\n",
       "   total_decisions  total_pending_endyear  unhcrassisted_endyear  \\\n",
       "0              5.0                    0.0                    0.0   \n",
       "\n",
       "   acceptance_rate continent_of_origin continent_asylum  \n",
       "0              1.0                Asia           Africa  "
      ]
     },
     "execution_count": 203,
     "metadata": {},
     "output_type": "execute_result"
    }
   ],
   "source": [
    "seekers_clean.head(1)"
   ]
  },
  {
   "cell_type": "code",
   "execution_count": 204,
   "metadata": {},
   "outputs": [
    {
     "data": {
      "text/plain": [
       "['Africa',\n",
       " 'Asia',\n",
       " 'Europe',\n",
       " 'Middle East',\n",
       " 'North America',\n",
       " 'Oceania',\n",
       " 'South America',\n",
       " 'Various/Unknown']"
      ]
     },
     "execution_count": 204,
     "metadata": {},
     "output_type": "execute_result"
    }
   ],
   "source": [
    "regions = list(seekers_clean.groupby('continent_asylum').groups.keys())\n",
    "\n",
    "regions"
   ]
  },
  {
   "cell_type": "code",
   "execution_count": 205,
   "metadata": {},
   "outputs": [
    {
     "name": "stderr",
     "output_type": "stream",
     "text": [
      "C:\\Users\\User\\Anaconda3\\envs\\py3\\lib\\site-packages\\ipykernel_launcher.py:13: SettingWithCopyWarning: \n",
      "A value is trying to be set on a copy of a slice from a DataFrame\n",
      "\n",
      "See the caveats in the documentation: http://pandas.pydata.org/pandas-docs/stable/indexing.html#indexing-view-versus-copy\n",
      "  del sys.path[0]\n",
      "C:\\Users\\User\\Anaconda3\\envs\\py3\\lib\\site-packages\\ipykernel_launcher.py:14: SettingWithCopyWarning: \n",
      "A value is trying to be set on a copy of a slice from a DataFrame\n",
      "\n",
      "See the caveats in the documentation: http://pandas.pydata.org/pandas-docs/stable/indexing.html#indexing-view-versus-copy\n",
      "  \n",
      "C:\\Users\\User\\Anaconda3\\envs\\py3\\lib\\site-packages\\ipykernel_launcher.py:22: SettingWithCopyWarning: \n",
      "A value is trying to be set on a copy of a slice from a DataFrame\n",
      "\n",
      "See the caveats in the documentation: http://pandas.pydata.org/pandas-docs/stable/indexing.html#indexing-view-versus-copy\n",
      "C:\\Users\\User\\Anaconda3\\envs\\py3\\lib\\site-packages\\ipykernel_launcher.py:23: SettingWithCopyWarning: \n",
      "A value is trying to be set on a copy of a slice from a DataFrame\n",
      "\n",
      "See the caveats in the documentation: http://pandas.pydata.org/pandas-docs/stable/indexing.html#indexing-view-versus-copy\n",
      "C:\\Users\\User\\Anaconda3\\envs\\py3\\lib\\site-packages\\ipykernel_launcher.py:24: SettingWithCopyWarning: \n",
      "A value is trying to be set on a copy of a slice from a DataFrame\n",
      "\n",
      "See the caveats in the documentation: http://pandas.pydata.org/pandas-docs/stable/indexing.html#indexing-view-versus-copy\n",
      "C:\\Users\\User\\Anaconda3\\envs\\py3\\lib\\site-packages\\ipykernel_launcher.py:28: SettingWithCopyWarning: \n",
      "A value is trying to be set on a copy of a slice from a DataFrame\n",
      "\n",
      "See the caveats in the documentation: http://pandas.pydata.org/pandas-docs/stable/indexing.html#indexing-view-versus-copy\n"
     ]
    },
    {
     "data": {
      "text/html": [
       "<div>\n",
       "<style>\n",
       "    .dataframe thead tr:only-child th {\n",
       "        text-align: right;\n",
       "    }\n",
       "\n",
       "    .dataframe thead th {\n",
       "        text-align: left;\n",
       "    }\n",
       "\n",
       "    .dataframe tbody tr th {\n",
       "        vertical-align: top;\n",
       "    }\n",
       "</style>\n",
       "<table border=\"1\" class=\"dataframe\">\n",
       "  <thead>\n",
       "    <tr style=\"text-align: right;\">\n",
       "      <th></th>\n",
       "      <th>year</th>\n",
       "      <th>country_giving_asylum</th>\n",
       "      <th>country_of_origin</th>\n",
       "      <th>population_type</th>\n",
       "      <th>value</th>\n",
       "      <th>continent_asylum</th>\n",
       "      <th>continent_of_origin</th>\n",
       "    </tr>\n",
       "  </thead>\n",
       "  <tbody>\n",
       "    <tr>\n",
       "      <th>188271</th>\n",
       "      <td>2014</td>\n",
       "      <td>New Zealand</td>\n",
       "      <td>Myanmar</td>\n",
       "      <td>Returned IDPs</td>\n",
       "      <td>0</td>\n",
       "      <td>Oceania</td>\n",
       "      <td>Asia</td>\n",
       "    </tr>\n",
       "    <tr>\n",
       "      <th>38012</th>\n",
       "      <td>2002</td>\n",
       "      <td>Canada</td>\n",
       "      <td>Czech Rep.</td>\n",
       "      <td>Asylum-seekers</td>\n",
       "      <td>60</td>\n",
       "      <td>North America</td>\n",
       "      <td>Europe</td>\n",
       "    </tr>\n",
       "    <tr>\n",
       "      <th>52035</th>\n",
       "      <td>2004</td>\n",
       "      <td>Canada</td>\n",
       "      <td>Thailand</td>\n",
       "      <td>Asylum-seekers</td>\n",
       "      <td>9</td>\n",
       "      <td>North America</td>\n",
       "      <td>Asia</td>\n",
       "    </tr>\n",
       "    <tr>\n",
       "      <th>241944</th>\n",
       "      <td>2015</td>\n",
       "      <td>Senegal</td>\n",
       "      <td>Eritrea</td>\n",
       "      <td>Asylum-seekers</td>\n",
       "      <td>1</td>\n",
       "      <td>Africa</td>\n",
       "      <td>Africa</td>\n",
       "    </tr>\n",
       "    <tr>\n",
       "      <th>31406</th>\n",
       "      <td>2001</td>\n",
       "      <td>Belgium</td>\n",
       "      <td>Slovenia</td>\n",
       "      <td>Refugees (incl. refugee-like situations)</td>\n",
       "      <td>7</td>\n",
       "      <td>Europe</td>\n",
       "      <td>Europe</td>\n",
       "    </tr>\n",
       "    <tr>\n",
       "      <th>239528</th>\n",
       "      <td>2015</td>\n",
       "      <td>Poland</td>\n",
       "      <td>China</td>\n",
       "      <td>Stateless</td>\n",
       "      <td>0</td>\n",
       "      <td>Europe</td>\n",
       "      <td>Asia</td>\n",
       "    </tr>\n",
       "    <tr>\n",
       "      <th>253926</th>\n",
       "      <td>2016</td>\n",
       "      <td>Austria</td>\n",
       "      <td>Chad</td>\n",
       "      <td>Returnees</td>\n",
       "      <td>0</td>\n",
       "      <td>Europe</td>\n",
       "      <td>Africa</td>\n",
       "    </tr>\n",
       "    <tr>\n",
       "      <th>103573</th>\n",
       "      <td>2009</td>\n",
       "      <td>United States of America</td>\n",
       "      <td>Indonesia</td>\n",
       "      <td>Asylum-seekers</td>\n",
       "      <td>1675</td>\n",
       "      <td>North America</td>\n",
       "      <td>Asia</td>\n",
       "    </tr>\n",
       "    <tr>\n",
       "      <th>52363</th>\n",
       "      <td>2004</td>\n",
       "      <td>Côte d'Ivoire</td>\n",
       "      <td>Burkina Faso</td>\n",
       "      <td>Refugees (incl. refugee-like situations)</td>\n",
       "      <td>1</td>\n",
       "      <td>Africa</td>\n",
       "      <td>Africa</td>\n",
       "    </tr>\n",
       "    <tr>\n",
       "      <th>28444</th>\n",
       "      <td>2000</td>\n",
       "      <td>Kuwait</td>\n",
       "      <td>Stateless</td>\n",
       "      <td>Others of concern</td>\n",
       "      <td>117000</td>\n",
       "      <td>Asia</td>\n",
       "      <td>Stateless</td>\n",
       "    </tr>\n",
       "    <tr>\n",
       "      <th>106120</th>\n",
       "      <td>2010</td>\n",
       "      <td>Switzerland</td>\n",
       "      <td>Pakistan</td>\n",
       "      <td>Asylum-seekers</td>\n",
       "      <td>92</td>\n",
       "      <td>Europe</td>\n",
       "      <td>Asia</td>\n",
       "    </tr>\n",
       "    <tr>\n",
       "      <th>24376</th>\n",
       "      <td>1999</td>\n",
       "      <td>Serbia and Kosovo (S/RES/1244 (1999))</td>\n",
       "      <td>Syrian Arab Rep.</td>\n",
       "      <td>Refugees (incl. refugee-like situations)</td>\n",
       "      <td>1</td>\n",
       "      <td>Europe</td>\n",
       "      <td>Middle East</td>\n",
       "    </tr>\n",
       "    <tr>\n",
       "      <th>65414</th>\n",
       "      <td>2005</td>\n",
       "      <td>Venezuela (Bolivarian Republic of)</td>\n",
       "      <td>Rwanda</td>\n",
       "      <td>Refugees (incl. refugee-like situations)</td>\n",
       "      <td>1</td>\n",
       "      <td>South America</td>\n",
       "      <td>Africa</td>\n",
       "    </tr>\n",
       "    <tr>\n",
       "      <th>104735</th>\n",
       "      <td>2010</td>\n",
       "      <td>Austria</td>\n",
       "      <td>Senegal</td>\n",
       "      <td>Refugees (incl. refugee-like situations)</td>\n",
       "      <td>3</td>\n",
       "      <td>Europe</td>\n",
       "      <td>Africa</td>\n",
       "    </tr>\n",
       "    <tr>\n",
       "      <th>168225</th>\n",
       "      <td>2014</td>\n",
       "      <td>France</td>\n",
       "      <td>Greece</td>\n",
       "      <td>Returnees</td>\n",
       "      <td>0</td>\n",
       "      <td>Europe</td>\n",
       "      <td>Europe</td>\n",
       "    </tr>\n",
       "  </tbody>\n",
       "</table>\n",
       "</div>"
      ],
      "text/plain": [
       "        year                  country_giving_asylum country_of_origin  \\\n",
       "188271  2014                            New Zealand           Myanmar   \n",
       "38012   2002                                 Canada        Czech Rep.   \n",
       "52035   2004                                 Canada          Thailand   \n",
       "241944  2015                                Senegal           Eritrea   \n",
       "31406   2001                                Belgium          Slovenia   \n",
       "239528  2015                                 Poland             China   \n",
       "253926  2016                                Austria              Chad   \n",
       "103573  2009               United States of America         Indonesia   \n",
       "52363   2004                          Côte d'Ivoire      Burkina Faso   \n",
       "28444   2000                                 Kuwait         Stateless   \n",
       "106120  2010                            Switzerland          Pakistan   \n",
       "24376   1999  Serbia and Kosovo (S/RES/1244 (1999))  Syrian Arab Rep.   \n",
       "65414   2005     Venezuela (Bolivarian Republic of)            Rwanda   \n",
       "104735  2010                                Austria           Senegal   \n",
       "168225  2014                                 France            Greece   \n",
       "\n",
       "                                 population_type   value continent_asylum  \\\n",
       "188271                             Returned IDPs       0          Oceania   \n",
       "38012                             Asylum-seekers      60    North America   \n",
       "52035                             Asylum-seekers       9    North America   \n",
       "241944                            Asylum-seekers       1           Africa   \n",
       "31406   Refugees (incl. refugee-like situations)       7           Europe   \n",
       "239528                                 Stateless       0           Europe   \n",
       "253926                                 Returnees       0           Europe   \n",
       "103573                            Asylum-seekers    1675    North America   \n",
       "52363   Refugees (incl. refugee-like situations)       1           Africa   \n",
       "28444                          Others of concern  117000             Asia   \n",
       "106120                            Asylum-seekers      92           Europe   \n",
       "24376   Refugees (incl. refugee-like situations)       1           Europe   \n",
       "65414   Refugees (incl. refugee-like situations)       1    South America   \n",
       "104735  Refugees (incl. refugee-like situations)       3           Europe   \n",
       "168225                                 Returnees       0           Europe   \n",
       "\n",
       "       continent_of_origin  \n",
       "188271                Asia  \n",
       "38012               Europe  \n",
       "52035                 Asia  \n",
       "241944              Africa  \n",
       "31406               Europe  \n",
       "239528                Asia  \n",
       "253926              Africa  \n",
       "103573                Asia  \n",
       "52363               Africa  \n",
       "28444            Stateless  \n",
       "106120                Asia  \n",
       "24376          Middle East  \n",
       "65414               Africa  \n",
       "104735              Africa  \n",
       "168225              Europe  "
      ]
     },
     "execution_count": 205,
     "metadata": {},
     "output_type": "execute_result"
    }
   ],
   "source": [
    "countries = list(seekers_clean.groupby('continent_asylum').get_group('Oceania').country_giving_asylum.unique())\n",
    "\n",
    "countries\n",
    "\n",
    "time_series_clean['continent_asylum'] = 'NaN'\n",
    "time_series_clean['continent_of_origin'] = 'NaN'\n",
    "\n",
    "time_series_clean.sample(5)\n",
    "\n",
    "for region_name in regions:\n",
    "    countries_asylum = list(seekers_clean.groupby('continent_asylum').get_group(region_name).country_giving_asylum.unique())\n",
    "    countries_origin = list(seekers_clean.groupby('continent_of_origin').get_group(region_name).country_of_origin.unique())\n",
    "    time_series_clean['continent_asylum'][np.array([x in countries_asylum for x in time_series_clean['country_giving_asylum']])] = region_name\n",
    "    time_series_clean['continent_of_origin'][np.array([x in countries_origin for x in time_series_clean['country_of_origin']])] = region_name\n",
    "\n",
    "\n",
    "\n",
    "time_series_clean.sample(10)\n",
    "\n",
    "time_series_clean[time_series_clean.continent_asylum == 'NaN'].country_giving_asylum.unique()\n",
    "\n",
    "time_series_clean['continent_asylum'][time_series_clean.country_giving_asylum == 'State of Palestine'] = 'Middle East'\n",
    "time_series_clean['continent_asylum'][time_series_clean.country_giving_asylum == 'Viet Nam'] = 'Asia'\n",
    "time_series_clean['continent_asylum'][time_series_clean.country_giving_asylum == 'State of Palestine'] = 'Middle East'\n",
    "\n",
    "time_series_clean[time_series_clean.continent_of_origin == 'NaN'].country_of_origin.unique()\n",
    "\n",
    "time_series_clean['continent_of_origin'][time_series_clean.country_of_origin == 'Stateless'] = 'Stateless'\n",
    "\n",
    "time_series_clean.to_csv('time_series_clean.csv' , index = False)\n",
    "\n",
    "time_series_clean.sample(15)"
   ]
  },
  {
   "cell_type": "markdown",
   "metadata": {},
   "source": [
    "# We add a female-male-ratio column"
   ]
  },
  {
   "cell_type": "code",
   "execution_count": 206,
   "metadata": {},
   "outputs": [
    {
     "data": {
      "text/html": [
       "<div>\n",
       "<style>\n",
       "    .dataframe thead tr:only-child th {\n",
       "        text-align: right;\n",
       "    }\n",
       "\n",
       "    .dataframe thead th {\n",
       "        text-align: left;\n",
       "    }\n",
       "\n",
       "    .dataframe tbody tr th {\n",
       "        vertical-align: top;\n",
       "    }\n",
       "</style>\n",
       "<table border=\"1\" class=\"dataframe\">\n",
       "  <thead>\n",
       "    <tr style=\"text-align: right;\">\n",
       "      <th></th>\n",
       "      <th>year</th>\n",
       "      <th>country_giving_asylum</th>\n",
       "      <th>female_male_ratio</th>\n",
       "    </tr>\n",
       "  </thead>\n",
       "  <tbody>\n",
       "    <tr>\n",
       "      <th>1896</th>\n",
       "      <td>2015</td>\n",
       "      <td>Paraguay</td>\n",
       "      <td>0.363636</td>\n",
       "    </tr>\n",
       "    <tr>\n",
       "      <th>637</th>\n",
       "      <td>2006</td>\n",
       "      <td>Uruguay</td>\n",
       "      <td>0.326797</td>\n",
       "    </tr>\n",
       "    <tr>\n",
       "      <th>392</th>\n",
       "      <td>2004</td>\n",
       "      <td>Sierra Leone</td>\n",
       "      <td>0.528047</td>\n",
       "    </tr>\n",
       "    <tr>\n",
       "      <th>1109</th>\n",
       "      <td>2010</td>\n",
       "      <td>Qatar</td>\n",
       "      <td>0.507463</td>\n",
       "    </tr>\n",
       "    <tr>\n",
       "      <th>1378</th>\n",
       "      <td>2012</td>\n",
       "      <td>Iran (Islamic Rep. of)</td>\n",
       "      <td>0.489390</td>\n",
       "    </tr>\n",
       "  </tbody>\n",
       "</table>\n",
       "</div>"
      ],
      "text/plain": [
       "      year   country_giving_asylum  female_male_ratio\n",
       "1896  2015                Paraguay           0.363636\n",
       "637   2006                 Uruguay           0.326797\n",
       "392   2004            Sierra Leone           0.528047\n",
       "1109  2010                   Qatar           0.507463\n",
       "1378  2012  Iran (Islamic Rep. of)           0.489390"
      ]
     },
     "execution_count": 206,
     "metadata": {},
     "output_type": "execute_result"
    }
   ],
   "source": [
    "obj = demographics_clean.groupby(['year' , 'country_giving_asylum']).sum()['f_total']/(demographics_clean.groupby(['year' , 'country_giving_asylum']).sum()['m_total']+demographics_clean.groupby(['year' , 'country_giving_asylum']).sum()['f_total'])\n",
    "\n",
    "obj = obj.reset_index()\n",
    "\n",
    "obj = obj.rename(index=str, columns={0:'female_male_ratio'})\n",
    "\n",
    "obj.sample(5)"
   ]
  },
  {
   "cell_type": "code",
   "execution_count": 207,
   "metadata": {
    "collapsed": true
   },
   "outputs": [],
   "source": [
    "time_series_clean = time_series_clean.merge(obj , how = 'left' , on = ['year' , 'country_giving_asylum'])\n",
    "\n",
    "seekers_clean = seekers_clean.merge(obj , how = 'left' , on = ['year' , 'country_giving_asylum'])"
   ]
  },
  {
   "cell_type": "code",
   "execution_count": 208,
   "metadata": {},
   "outputs": [
    {
     "data": {
      "text/html": [
       "<div>\n",
       "<style>\n",
       "    .dataframe thead tr:only-child th {\n",
       "        text-align: right;\n",
       "    }\n",
       "\n",
       "    .dataframe thead th {\n",
       "        text-align: left;\n",
       "    }\n",
       "\n",
       "    .dataframe tbody tr th {\n",
       "        vertical-align: top;\n",
       "    }\n",
       "</style>\n",
       "<table border=\"1\" class=\"dataframe\">\n",
       "  <thead>\n",
       "    <tr style=\"text-align: right;\">\n",
       "      <th></th>\n",
       "      <th>year</th>\n",
       "      <th>country_giving_asylum</th>\n",
       "      <th>country_of_origin</th>\n",
       "      <th>population_type</th>\n",
       "      <th>value</th>\n",
       "      <th>continent_asylum</th>\n",
       "      <th>continent_of_origin</th>\n",
       "      <th>female_male_ratio</th>\n",
       "    </tr>\n",
       "  </thead>\n",
       "  <tbody>\n",
       "    <tr>\n",
       "      <th>278304</th>\n",
       "      <td>2016</td>\n",
       "      <td>Lebanon</td>\n",
       "      <td>Togo</td>\n",
       "      <td>Others of concern</td>\n",
       "      <td>0</td>\n",
       "      <td>Asia</td>\n",
       "      <td>Africa</td>\n",
       "      <td>0.522494</td>\n",
       "    </tr>\n",
       "    <tr>\n",
       "      <th>197738</th>\n",
       "      <td>2014</td>\n",
       "      <td>Turkey</td>\n",
       "      <td>Myanmar</td>\n",
       "      <td>Stateless</td>\n",
       "      <td>0</td>\n",
       "      <td>Asia</td>\n",
       "      <td>Asia</td>\n",
       "      <td>0.409569</td>\n",
       "    </tr>\n",
       "  </tbody>\n",
       "</table>\n",
       "</div>"
      ],
      "text/plain": [
       "        year country_giving_asylum country_of_origin    population_type  \\\n",
       "278304  2016               Lebanon              Togo  Others of concern   \n",
       "197738  2014                Turkey           Myanmar          Stateless   \n",
       "\n",
       "        value continent_asylum continent_of_origin  female_male_ratio  \n",
       "278304      0             Asia              Africa           0.522494  \n",
       "197738      0             Asia                Asia           0.409569  "
      ]
     },
     "execution_count": 208,
     "metadata": {},
     "output_type": "execute_result"
    }
   ],
   "source": [
    "time_series_clean.sample(2)"
   ]
  },
  {
   "cell_type": "code",
   "execution_count": 209,
   "metadata": {},
   "outputs": [
    {
     "data": {
      "text/html": [
       "<div>\n",
       "<style>\n",
       "    .dataframe thead tr:only-child th {\n",
       "        text-align: right;\n",
       "    }\n",
       "\n",
       "    .dataframe thead th {\n",
       "        text-align: left;\n",
       "    }\n",
       "\n",
       "    .dataframe tbody tr th {\n",
       "        vertical-align: top;\n",
       "    }\n",
       "</style>\n",
       "<table border=\"1\" class=\"dataframe\">\n",
       "  <thead>\n",
       "    <tr style=\"text-align: right;\">\n",
       "      <th></th>\n",
       "      <th>year</th>\n",
       "      <th>country_giving_asylum</th>\n",
       "      <th>country_of_origin</th>\n",
       "      <th>rsd_type</th>\n",
       "      <th>total_pending_startyear</th>\n",
       "      <th>unhcrassisted_startyear</th>\n",
       "      <th>applied_during_year</th>\n",
       "      <th>decisions_recognized</th>\n",
       "      <th>decisions_other</th>\n",
       "      <th>rejected</th>\n",
       "      <th>otherwise_closed</th>\n",
       "      <th>total_decisions</th>\n",
       "      <th>total_pending_endyear</th>\n",
       "      <th>unhcrassisted_endyear</th>\n",
       "      <th>acceptance_rate</th>\n",
       "      <th>continent_of_origin</th>\n",
       "      <th>continent_asylum</th>\n",
       "      <th>female_male_ratio</th>\n",
       "    </tr>\n",
       "  </thead>\n",
       "  <tbody>\n",
       "    <tr>\n",
       "      <th>52021</th>\n",
       "      <td>2008</td>\n",
       "      <td>Uganda</td>\n",
       "      <td>Somalia</td>\n",
       "      <td>G / FI</td>\n",
       "      <td>1055.0</td>\n",
       "      <td>0.0</td>\n",
       "      <td>2499.0</td>\n",
       "      <td>1330.0</td>\n",
       "      <td>0.0</td>\n",
       "      <td>70.0</td>\n",
       "      <td>0.0</td>\n",
       "      <td>1400.0</td>\n",
       "      <td>2154.0</td>\n",
       "      <td>2154.0</td>\n",
       "      <td>0.393922</td>\n",
       "      <td>Africa</td>\n",
       "      <td>Africa</td>\n",
       "      <td>0.498368</td>\n",
       "    </tr>\n",
       "    <tr>\n",
       "      <th>3060</th>\n",
       "      <td>2000</td>\n",
       "      <td>Belarus</td>\n",
       "      <td>Palestinian</td>\n",
       "      <td>G / FI</td>\n",
       "      <td>1.0</td>\n",
       "      <td>0.0</td>\n",
       "      <td>0.0</td>\n",
       "      <td>0.0</td>\n",
       "      <td>1.0</td>\n",
       "      <td>0.0</td>\n",
       "      <td>0.0</td>\n",
       "      <td>1.0</td>\n",
       "      <td>0.0</td>\n",
       "      <td>0.0</td>\n",
       "      <td>1.000000</td>\n",
       "      <td>Middle East</td>\n",
       "      <td>Europe</td>\n",
       "      <td>NaN</td>\n",
       "    </tr>\n",
       "    <tr>\n",
       "      <th>18425</th>\n",
       "      <td>2003</td>\n",
       "      <td>Belgium</td>\n",
       "      <td>Myanmar</td>\n",
       "      <td>G / AR</td>\n",
       "      <td>0.0</td>\n",
       "      <td>0.0</td>\n",
       "      <td>1.0</td>\n",
       "      <td>0.0</td>\n",
       "      <td>0.0</td>\n",
       "      <td>0.0</td>\n",
       "      <td>0.0</td>\n",
       "      <td>NaN</td>\n",
       "      <td>1.0</td>\n",
       "      <td>0.0</td>\n",
       "      <td>0.000000</td>\n",
       "      <td>Asia</td>\n",
       "      <td>Europe</td>\n",
       "      <td>NaN</td>\n",
       "    </tr>\n",
       "    <tr>\n",
       "      <th>84695</th>\n",
       "      <td>2013</td>\n",
       "      <td>Turkey</td>\n",
       "      <td>Benin</td>\n",
       "      <td>U / AR</td>\n",
       "      <td>0.0</td>\n",
       "      <td>0.0</td>\n",
       "      <td>1.0</td>\n",
       "      <td>0.0</td>\n",
       "      <td>0.0</td>\n",
       "      <td>0.0</td>\n",
       "      <td>0.0</td>\n",
       "      <td>NaN</td>\n",
       "      <td>1.0</td>\n",
       "      <td>1.0</td>\n",
       "      <td>0.000000</td>\n",
       "      <td>Africa</td>\n",
       "      <td>Asia</td>\n",
       "      <td>0.432609</td>\n",
       "    </tr>\n",
       "    <tr>\n",
       "      <th>53420</th>\n",
       "      <td>2009</td>\n",
       "      <td>Croatia</td>\n",
       "      <td>Angola</td>\n",
       "      <td>G / FI</td>\n",
       "      <td>1.0</td>\n",
       "      <td>1.0</td>\n",
       "      <td>0.0</td>\n",
       "      <td>0.0</td>\n",
       "      <td>0.0</td>\n",
       "      <td>1.0</td>\n",
       "      <td>0.0</td>\n",
       "      <td>1.0</td>\n",
       "      <td>0.0</td>\n",
       "      <td>0.0</td>\n",
       "      <td>1.000000</td>\n",
       "      <td>Africa</td>\n",
       "      <td>Europe</td>\n",
       "      <td>0.200000</td>\n",
       "    </tr>\n",
       "  </tbody>\n",
       "</table>\n",
       "</div>"
      ],
      "text/plain": [
       "       year country_giving_asylum country_of_origin rsd_type  \\\n",
       "52021  2008                Uganda           Somalia   G / FI   \n",
       "3060   2000               Belarus       Palestinian   G / FI   \n",
       "18425  2003               Belgium           Myanmar   G / AR   \n",
       "84695  2013                Turkey             Benin   U / AR   \n",
       "53420  2009               Croatia            Angola   G / FI   \n",
       "\n",
       "       total_pending_startyear  unhcrassisted_startyear  applied_during_year  \\\n",
       "52021                   1055.0                      0.0               2499.0   \n",
       "3060                       1.0                      0.0                  0.0   \n",
       "18425                      0.0                      0.0                  1.0   \n",
       "84695                      0.0                      0.0                  1.0   \n",
       "53420                      1.0                      1.0                  0.0   \n",
       "\n",
       "       decisions_recognized  decisions_other  rejected  otherwise_closed  \\\n",
       "52021                1330.0              0.0      70.0               0.0   \n",
       "3060                    0.0              1.0       0.0               0.0   \n",
       "18425                   0.0              0.0       0.0               0.0   \n",
       "84695                   0.0              0.0       0.0               0.0   \n",
       "53420                   0.0              0.0       1.0               0.0   \n",
       "\n",
       "       total_decisions  total_pending_endyear  unhcrassisted_endyear  \\\n",
       "52021           1400.0                 2154.0                 2154.0   \n",
       "3060               1.0                    0.0                    0.0   \n",
       "18425              NaN                    1.0                    0.0   \n",
       "84695              NaN                    1.0                    1.0   \n",
       "53420              1.0                    0.0                    0.0   \n",
       "\n",
       "       acceptance_rate continent_of_origin continent_asylum  female_male_ratio  \n",
       "52021         0.393922              Africa           Africa           0.498368  \n",
       "3060          1.000000         Middle East           Europe                NaN  \n",
       "18425         0.000000                Asia           Europe                NaN  \n",
       "84695         0.000000              Africa             Asia           0.432609  \n",
       "53420         1.000000              Africa           Europe           0.200000  "
      ]
     },
     "execution_count": 209,
     "metadata": {},
     "output_type": "execute_result"
    }
   ],
   "source": [
    "seekers_clean.sample(5)"
   ]
  },
  {
   "cell_type": "code",
   "execution_count": 210,
   "metadata": {},
   "outputs": [
    {
     "data": {
      "text/plain": [
       "1774"
      ]
     },
     "execution_count": 210,
     "metadata": {},
     "output_type": "execute_result"
    }
   ],
   "source": [
    "time_series_clean.female_male_ratio.nunique()"
   ]
  },
  {
   "cell_type": "code",
   "execution_count": 211,
   "metadata": {},
   "outputs": [
    {
     "data": {
      "text/plain": [
       "113293"
      ]
     },
     "execution_count": 211,
     "metadata": {},
     "output_type": "execute_result"
    }
   ],
   "source": [
    "len(seekers_clean)"
   ]
  },
  {
   "cell_type": "code",
   "execution_count": 212,
   "metadata": {},
   "outputs": [
    {
     "data": {
      "text/plain": [
       "50430"
      ]
     },
     "execution_count": 212,
     "metadata": {},
     "output_type": "execute_result"
    }
   ],
   "source": [
    "seekers_clean.female_male_ratio.notnull().sum()"
   ]
  },
  {
   "cell_type": "code",
   "execution_count": 213,
   "metadata": {
    "collapsed": true
   },
   "outputs": [],
   "source": [
    "seekers_clean.female_male_ratio = seekers_clean.female_male_ratio.fillna(0.5)"
   ]
  },
  {
   "cell_type": "code",
   "execution_count": 214,
   "metadata": {},
   "outputs": [
    {
     "data": {
      "text/plain": [
       "113293"
      ]
     },
     "execution_count": 214,
     "metadata": {},
     "output_type": "execute_result"
    }
   ],
   "source": [
    "seekers_clean.acceptance_rate.notnull().sum()"
   ]
  },
  {
   "cell_type": "markdown",
   "metadata": {},
   "source": [
    "# Statistical Investigations:"
   ]
  },
  {
   "cell_type": "markdown",
   "metadata": {},
   "source": [
    "## Seekers Dataset"
   ]
  },
  {
   "cell_type": "markdown",
   "metadata": {},
   "source": [
    "We calculate the acceptance rate grouped by RSD type:"
   ]
  },
  {
   "cell_type": "code",
   "execution_count": 215,
   "metadata": {
    "collapsed": true
   },
   "outputs": [],
   "source": [
    "seekers_clean['rsd_type_institution'] = seekers_clean['rsd_type'].str[0]"
   ]
  },
  {
   "cell_type": "code",
   "execution_count": 216,
   "metadata": {},
   "outputs": [
    {
     "data": {
      "text/plain": [
       "rsd_type_institution\n",
       "G    0.613112\n",
       "J    0.324340\n",
       "U    0.493975\n",
       "Name: acceptance_rate, dtype: float64"
      ]
     },
     "execution_count": 216,
     "metadata": {},
     "output_type": "execute_result"
    }
   ],
   "source": [
    "seekers_clean.groupby('rsd_type_institution').mean().acceptance_rate"
   ]
  },
  {
   "cell_type": "markdown",
   "metadata": {},
   "source": [
    "Our data indicate that if the rsd procedure is 'Government', then the acceptance rate is highest. We will check if this difference in acceptance rate is significant, using a logistic regression approach. "
   ]
  },
  {
   "cell_type": "code",
   "execution_count": 217,
   "metadata": {
    "collapsed": true
   },
   "outputs": [],
   "source": [
    "seekers_clean[['G' , 'J' , 'U']] =pd.get_dummies(seekers_clean['rsd_type_institution'])"
   ]
  },
  {
   "cell_type": "code",
   "execution_count": 218,
   "metadata": {
    "collapsed": true
   },
   "outputs": [],
   "source": [
    "seekers_clean['intercept'] = 1"
   ]
  },
  {
   "cell_type": "markdown",
   "metadata": {},
   "source": [
    "Our model looks like the following. p indicates the expected acceptance rate. The RSD-levels are U (UNHCR supported) or G (Government supported) or J (Joint procedure). For the model we take G as the intercept and let both J,U be either 0,1 indicating the RSD-level."
   ]
  },
  {
   "cell_type": "markdown",
   "metadata": {},
   "source": [
    "$$\\frac{p}{1-p} = e^{\\beta_0*J+\\beta_1*U+\\beta_2}$$"
   ]
  },
  {
   "cell_type": "code",
   "execution_count": 219,
   "metadata": {},
   "outputs": [
    {
     "name": "stdout",
     "output_type": "stream",
     "text": [
      "Optimization terminated successfully.\n",
      "         Current function value: 0.662994\n",
      "         Iterations 4\n"
     ]
    }
   ],
   "source": [
    "import statsmodels.api as sm\n",
    "log_regression = sm.Logit(seekers_clean['acceptance_rate'], seekers_clean[['J' , 'U' , 'intercept']]).fit()\n",
    "np.exp(log_regression.params)\n",
    "\n",
    "\n",
    "#The below is a workaround to fix a problem with log_regression.summary()\n",
    "from scipy import stats \n",
    "\n",
    "stats.chisqprob = lambda chisq, seekers_clean: stats.chi2.sf(chisq, seekers_clean) \n",
    "\n",
    "\n"
   ]
  },
  {
   "cell_type": "code",
   "execution_count": 220,
   "metadata": {},
   "outputs": [
    {
     "data": {
      "text/html": [
       "<table class=\"simpletable\">\n",
       "<caption>Logit Regression Results</caption>\n",
       "<tr>\n",
       "  <th>Dep. Variable:</th>  <td>acceptance_rate</td> <th>  No. Observations:  </th>  <td>113293</td> \n",
       "</tr>\n",
       "<tr>\n",
       "  <th>Model:</th>               <td>Logit</td>      <th>  Df Residuals:      </th>  <td>113290</td> \n",
       "</tr>\n",
       "<tr>\n",
       "  <th>Method:</th>               <td>MLE</td>       <th>  Df Model:          </th>  <td>     2</td> \n",
       "</tr>\n",
       "<tr>\n",
       "  <th>Date:</th>          <td>Wed, 11 Apr 2018</td> <th>  Pseudo R-squ.:     </th>  <td>0.01220</td>\n",
       "</tr>\n",
       "<tr>\n",
       "  <th>Time:</th>              <td>12:10:24</td>     <th>  Log-Likelihood:    </th> <td> -75113.</td>\n",
       "</tr>\n",
       "<tr>\n",
       "  <th>converged:</th>           <td>True</td>       <th>  LL-Null:           </th> <td> -76040.</td>\n",
       "</tr>\n",
       "<tr>\n",
       "  <th> </th>                      <td> </td>        <th>  LLR p-value:       </th>  <td> 0.000</td> \n",
       "</tr>\n",
       "</table>\n",
       "<table class=\"simpletable\">\n",
       "<tr>\n",
       "      <td></td>         <th>coef</th>     <th>std err</th>      <th>z</th>      <th>P>|z|</th>  <th>[0.025</th>    <th>0.975]</th>  \n",
       "</tr>\n",
       "<tr>\n",
       "  <th>J</th>         <td>   -1.1943</td> <td>    0.056</td> <td>  -21.159</td> <td> 0.000</td> <td>   -1.305</td> <td>   -1.084</td>\n",
       "</tr>\n",
       "<tr>\n",
       "  <th>U</th>         <td>   -0.4845</td> <td>    0.016</td> <td>  -30.396</td> <td> 0.000</td> <td>   -0.516</td> <td>   -0.453</td>\n",
       "</tr>\n",
       "<tr>\n",
       "  <th>intercept</th> <td>    0.4604</td> <td>    0.007</td> <td>   68.259</td> <td> 0.000</td> <td>    0.447</td> <td>    0.474</td>\n",
       "</tr>\n",
       "</table>"
      ],
      "text/plain": [
       "<class 'statsmodels.iolib.summary.Summary'>\n",
       "\"\"\"\n",
       "                           Logit Regression Results                           \n",
       "==============================================================================\n",
       "Dep. Variable:        acceptance_rate   No. Observations:               113293\n",
       "Model:                          Logit   Df Residuals:                   113290\n",
       "Method:                           MLE   Df Model:                            2\n",
       "Date:                Wed, 11 Apr 2018   Pseudo R-squ.:                 0.01220\n",
       "Time:                        12:10:24   Log-Likelihood:                -75113.\n",
       "converged:                       True   LL-Null:                       -76040.\n",
       "                                        LLR p-value:                     0.000\n",
       "==============================================================================\n",
       "                 coef    std err          z      P>|z|      [0.025      0.975]\n",
       "------------------------------------------------------------------------------\n",
       "J             -1.1943      0.056    -21.159      0.000      -1.305      -1.084\n",
       "U             -0.4845      0.016    -30.396      0.000      -0.516      -0.453\n",
       "intercept      0.4604      0.007     68.259      0.000       0.447       0.474\n",
       "==============================================================================\n",
       "\"\"\""
      ]
     },
     "execution_count": 220,
     "metadata": {},
     "output_type": "execute_result"
    }
   ],
   "source": [
    "log_regression.summary()"
   ]
  },
  {
   "cell_type": "markdown",
   "metadata": {},
   "source": [
    "We conclude that the ratio $\\frac{p}{1-p}$ is expected to be highest, when the RSD-level is G, but this cannot be shown to be statistically significant as the R-squared value is very low."
   ]
  },
  {
   "cell_type": "markdown",
   "metadata": {},
   "source": [
    "We now test whether the acceptance rate is significantly influenced by the female to male ratio."
   ]
  },
  {
   "cell_type": "code",
   "execution_count": 221,
   "metadata": {},
   "outputs": [
    {
     "name": "stdout",
     "output_type": "stream",
     "text": [
      "Optimization terminated successfully.\n",
      "         Current function value: 0.669306\n",
      "         Iterations 4\n"
     ]
    },
    {
     "data": {
      "text/plain": [
       "female_male_ratio    3.082078\n",
       "intercept            0.860781\n",
       "dtype: float64"
      ]
     },
     "execution_count": 221,
     "metadata": {},
     "output_type": "execute_result"
    }
   ],
   "source": [
    "log_regression = sm.Logit(seekers_clean['acceptance_rate'] , seekers_clean[['female_male_ratio', 'intercept']]).fit()\n",
    "np.exp(log_regression.params)"
   ]
  },
  {
   "cell_type": "code",
   "execution_count": 222,
   "metadata": {},
   "outputs": [
    {
     "data": {
      "text/html": [
       "<table class=\"simpletable\">\n",
       "<caption>Logit Regression Results</caption>\n",
       "<tr>\n",
       "  <th>Dep. Variable:</th>  <td>acceptance_rate</td> <th>  No. Observations:  </th>  <td>113293</td>  \n",
       "</tr>\n",
       "<tr>\n",
       "  <th>Model:</th>               <td>Logit</td>      <th>  Df Residuals:      </th>  <td>113291</td>  \n",
       "</tr>\n",
       "<tr>\n",
       "  <th>Method:</th>               <td>MLE</td>       <th>  Df Model:          </th>  <td>     1</td>  \n",
       "</tr>\n",
       "<tr>\n",
       "  <th>Date:</th>          <td>Wed, 11 Apr 2018</td> <th>  Pseudo R-squ.:     </th> <td>0.002791</td> \n",
       "</tr>\n",
       "<tr>\n",
       "  <th>Time:</th>              <td>12:10:24</td>     <th>  Log-Likelihood:    </th> <td> -75828.</td> \n",
       "</tr>\n",
       "<tr>\n",
       "  <th>converged:</th>           <td>True</td>       <th>  LL-Null:           </th> <td> -76040.</td> \n",
       "</tr>\n",
       "<tr>\n",
       "  <th> </th>                      <td> </td>        <th>  LLR p-value:       </th> <td>2.521e-94</td>\n",
       "</tr>\n",
       "</table>\n",
       "<table class=\"simpletable\">\n",
       "<tr>\n",
       "          <td></td>             <th>coef</th>     <th>std err</th>      <th>z</th>      <th>P>|z|</th>  <th>[0.025</th>    <th>0.975]</th>  \n",
       "</tr>\n",
       "<tr>\n",
       "  <th>female_male_ratio</th> <td>    1.1256</td> <td>    0.065</td> <td>   17.435</td> <td> 0.000</td> <td>    0.999</td> <td>    1.252</td>\n",
       "</tr>\n",
       "<tr>\n",
       "  <th>intercept</th>         <td>   -0.1499</td> <td>    0.030</td> <td>   -5.017</td> <td> 0.000</td> <td>   -0.208</td> <td>   -0.091</td>\n",
       "</tr>\n",
       "</table>"
      ],
      "text/plain": [
       "<class 'statsmodels.iolib.summary.Summary'>\n",
       "\"\"\"\n",
       "                           Logit Regression Results                           \n",
       "==============================================================================\n",
       "Dep. Variable:        acceptance_rate   No. Observations:               113293\n",
       "Model:                          Logit   Df Residuals:                   113291\n",
       "Method:                           MLE   Df Model:                            1\n",
       "Date:                Wed, 11 Apr 2018   Pseudo R-squ.:                0.002791\n",
       "Time:                        12:10:24   Log-Likelihood:                -75828.\n",
       "converged:                       True   LL-Null:                       -76040.\n",
       "                                        LLR p-value:                 2.521e-94\n",
       "=====================================================================================\n",
       "                        coef    std err          z      P>|z|      [0.025      0.975]\n",
       "-------------------------------------------------------------------------------------\n",
       "female_male_ratio     1.1256      0.065     17.435      0.000       0.999       1.252\n",
       "intercept            -0.1499      0.030     -5.017      0.000      -0.208      -0.091\n",
       "=====================================================================================\n",
       "\"\"\""
      ]
     },
     "execution_count": 222,
     "metadata": {},
     "output_type": "execute_result"
    }
   ],
   "source": [
    "log_regression.summary()"
   ]
  },
  {
   "cell_type": "markdown",
   "metadata": {},
   "source": [
    "Again this is a poor model, as the correspong R-squared value is very low."
   ]
  },
  {
   "cell_type": "markdown",
   "metadata": {},
   "source": [
    "## Time Series Dataset"
   ]
  },
  {
   "cell_type": "markdown",
   "metadata": {
    "collapsed": true
   },
   "source": [
    "We continue with the time series Data set and want to answer some questions about the data."
   ]
  },
  {
   "cell_type": "markdown",
   "metadata": {},
   "source": [
    "How many refugees have there been worldwide in the year 2016?"
   ]
  },
  {
   "cell_type": "code",
   "execution_count": 223,
   "metadata": {},
   "outputs": [
    {
     "data": {
      "text/plain": [
       "67635713"
      ]
     },
     "execution_count": 223,
     "metadata": {},
     "output_type": "execute_result"
    }
   ],
   "source": [
    "time_series_clean.query('year == 2016').value.sum()"
   ]
  },
  {
   "cell_type": "markdown",
   "metadata": {},
   "source": [
    "Wow! Almost 68 Million refugees worldwide, just in 2016. How many of these refugees have tried their luck in Europe in the year 2016?"
   ]
  },
  {
   "cell_type": "code",
   "execution_count": 224,
   "metadata": {},
   "outputs": [
    {
     "data": {
      "text/plain": [
       "6812466"
      ]
     },
     "execution_count": 224,
     "metadata": {},
     "output_type": "execute_result"
    }
   ],
   "source": [
    "time_series_clean.query('continent_asylum == \"Europe\"').query('year == 2016').value.sum()"
   ]
  },
  {
   "cell_type": "markdown",
   "metadata": {},
   "source": [
    "We calculate the respective ratio (Europe/world)"
   ]
  },
  {
   "cell_type": "code",
   "execution_count": 225,
   "metadata": {},
   "outputs": [
    {
     "data": {
      "text/plain": [
       "0.10072291246489853"
      ]
     },
     "execution_count": 225,
     "metadata": {},
     "output_type": "execute_result"
    }
   ],
   "source": [
    "time_series_clean.query('continent_asylum == \"Europe\"').query('year == 2016').value.sum()/time_series_clean.query('year == 2016').value.sum()"
   ]
  },
  {
   "cell_type": "markdown",
   "metadata": {},
   "source": [
    "There are around 6.8 Million refugees looking for asylum in Europe in 2016. How many of those are in Germany in the same year?"
   ]
  },
  {
   "cell_type": "code",
   "execution_count": 226,
   "metadata": {},
   "outputs": [
    {
     "data": {
      "text/plain": [
       "1268708"
      ]
     },
     "execution_count": 226,
     "metadata": {},
     "output_type": "execute_result"
    }
   ],
   "source": [
    "time_series_clean.query('country_giving_asylum == \"Germany\"').query('year == 2016').value.sum()"
   ]
  },
  {
   "cell_type": "markdown",
   "metadata": {},
   "source": [
    "The respective ratio (Germany/Europe) is:"
   ]
  },
  {
   "cell_type": "code",
   "execution_count": 227,
   "metadata": {},
   "outputs": [
    {
     "data": {
      "text/plain": [
       "0.18623329643039688"
      ]
     },
     "execution_count": 227,
     "metadata": {},
     "output_type": "execute_result"
    }
   ],
   "source": [
    "time_series_clean.query('country_giving_asylum == \"Germany\"').query('year == 2016').value.sum()/time_series_clean.query('continent_asylum == \"Europe\"').query('year == 2016').value.sum()"
   ]
  },
  {
   "cell_type": "markdown",
   "metadata": {},
   "source": [
    "Around 6.8 Million of the almost 68 Million refugees worldwide look for asylum in Europe in year 2016. This is a ratio of about 10 %. Of these 6.8 Million refugees around 1.3 Million refugees apply for asylum in Germany, which is a ratio of about 18 %."
   ]
  },
  {
   "cell_type": "markdown",
   "metadata": {},
   "source": [
    "# Visualize Data"
   ]
  },
  {
   "cell_type": "markdown",
   "metadata": {},
   "source": [
    "### For a full Tableau Story go to https://public.tableau.com/profile/fernandotableau#!/vizhome/RefugeeDataUN-FerTableau/RefugeesinMiddleEastandAsiabycountryoforigin"
   ]
  }
 ],
 "metadata": {
  "kernelspec": {
   "display_name": "Python 3",
   "language": "python",
   "name": "python3"
  },
  "language_info": {
   "codemirror_mode": {
    "name": "ipython",
    "version": 3
   },
   "file_extension": ".py",
   "mimetype": "text/x-python",
   "name": "python",
   "nbconvert_exporter": "python",
   "pygments_lexer": "ipython3",
   "version": "3.6.2"
  }
 },
 "nbformat": 4,
 "nbformat_minor": 2
}
